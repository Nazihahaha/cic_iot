{
 "cells": [
  {
   "cell_type": "code",
   "execution_count": 20,
   "id": "7592210c",
   "metadata": {},
   "outputs": [],
   "source": [
    "import pandas as pd"
   ]
  },
  {
   "cell_type": "code",
   "execution_count": 21,
   "metadata": {},
   "outputs": [
    {
     "name": "stdout",
     "output_type": "stream",
     "text": [
      "        stream                       src_mac             dst_mac  \\\n",
      "0            0          Arlo Q Indoor Camera   3c:18:a0:41:c3:a0   \n",
      "1            0          Arlo Q Indoor Camera   3c:18:a0:41:c3:a0   \n",
      "2            0          Arlo Q Indoor Camera   3c:18:a0:41:c3:a0   \n",
      "3            0          Arlo Q Indoor Camera   3c:18:a0:41:c3:a0   \n",
      "4            0          Arlo Q Indoor Camera   3c:18:a0:41:c3:a0   \n",
      "...        ...                           ...                 ...   \n",
      "297058       0  HeimVision Smart WiFi Camera   01:00:5e:7f:ff:fa   \n",
      "297059    7998             3c:18:a0:41:c3:a0   ac:17:02:05:34:27   \n",
      "297060    7998             3c:18:a0:41:c3:a0   ac:17:02:05:34:27   \n",
      "297061   15507               Home Eye Camera   3c:18:a0:41:c3:a0   \n",
      "297062       1             3c:18:a0:41:c3:a0  Nest Indoor Camera   \n",
      "\n",
      "                 src_ip           dst_ip  src_port  dst_port  \\\n",
      "0       192.168.137.175     99.81.244.93     56891       443   \n",
      "1       192.168.137.175     99.81.244.93     56891       443   \n",
      "2       192.168.137.175     99.81.244.93     56891       443   \n",
      "3       192.168.137.175     99.81.244.93     56891       443   \n",
      "4       192.168.137.175     99.81.244.93     56891       443   \n",
      "...                 ...              ...       ...       ...   \n",
      "297058   192.168.137.90  239.255.255.250     37020     37000   \n",
      "297059   157.249.81.141   192.168.137.41       443     60940   \n",
      "297060   157.249.81.141   192.168.137.41       443     60940   \n",
      "297061  192.168.137.133  111.235.248.121     44935       123   \n",
      "297062    35.185.101.66   192.168.137.46       443     48335   \n",
      "\n",
      "        inter_arrival_time  time_since_previously_displayed_frame  \\\n",
      "0                 0.000000                               0.000000   \n",
      "1                 0.000164                               0.000164   \n",
      "2                 0.000269                               0.000105   \n",
      "3                 0.000414                               0.000145   \n",
      "4                 0.001800                               0.001386   \n",
      "...                    ...                                    ...   \n",
      "297058         5204.604663                               0.054752   \n",
      "297059         5204.606735                               0.002072   \n",
      "297060         5204.606736                               0.000001   \n",
      "297061         5204.630969                               0.024233   \n",
      "297062         5204.650918                               0.019949   \n",
      "\n",
      "        port_class_dst  ...   min_p   max_p   med_p  average_p          var_p  \\\n",
      "0                    1  ...  2908.0  2908.0  2908.0    2908.00       0.000000   \n",
      "1                    1  ...  2908.0  2908.0  2908.0    2908.00       0.000000   \n",
      "2                    1  ...  1460.0  2908.0  2908.0    2835.60  104835.200000   \n",
      "3                    1  ...  1460.0  2908.0  2908.0    2763.20  198635.115789   \n",
      "4                    1  ...  1460.0  2908.0  2908.0    2690.80  281399.747368   \n",
      "...                ...  ...     ...     ...     ...        ...            ...   \n",
      "297058               2  ...     6.0   176.0   176.0     117.45    5578.050000   \n",
      "297059               3  ...    12.0   387.0    16.0      58.70   10578.115789   \n",
      "297060               3  ...    12.0   387.0    15.5      58.65   10582.239474   \n",
      "297061               1  ...     0.0    52.0    36.0      34.80     257.642105   \n",
      "297062               2  ...    12.0   118.0    12.0      53.30    2206.431579   \n",
      "\n",
      "          q3_p    q1_p  iqr_p  l3_ip_dst_count          Label  \n",
      "0       2908.0  2908.0    0.0              1.0  BenignTraffic  \n",
      "1       2908.0  2908.0    0.0              1.0  BenignTraffic  \n",
      "2       2908.0  2908.0    0.0              1.0  BenignTraffic  \n",
      "3       2908.0  2908.0    0.0              1.0  BenignTraffic  \n",
      "4       2908.0  2908.0    0.0              1.0  BenignTraffic  \n",
      "...        ...     ...    ...              ...            ...  \n",
      "297058   176.0    39.0  137.0              3.0  BenignTraffic  \n",
      "297059    32.0    12.0   20.0              9.0  BenignTraffic  \n",
      "297060    32.0    12.0   20.0              9.0  BenignTraffic  \n",
      "297061    48.0    18.0   30.0              8.0  BenignTraffic  \n",
      "297062   102.0    12.0   90.0              2.0  BenignTraffic  \n",
      "\n",
      "[297063 rows x 136 columns]\n"
     ]
    }
   ],
   "source": [
    "\n",
    "# Load CSV\n",
    "df = pd.read_csv('C:/Users/nazih/Downloads/cic_iot/BenignTraffic.csv')\n",
    "\n",
    "# Add a label column (manually assign for small datasets)\n",
    "df['Label'] = 'BenignTraffic' # Adjust based on your data\n",
    "\n",
    "# Alternatively, review and assign labels interactively\n",
    "# Example: Label based on a condition (if applicable)\n",
    "# df['Label'] = df['Review'].apply(lambda x: 'Positive' if 'love' in x.lower() else 'Negative')\n",
    "\n",
    "# Save updated CSV\n",
    "df.to_csv('labeled_dataset_benign.csv', index=False)\n",
    "print(df)"
   ]
  },
  {
   "cell_type": "code",
   "execution_count": 22,
   "metadata": {},
   "outputs": [
    {
     "name": "stderr",
     "output_type": "stream",
     "text": [
      "C:\\Users\\nazih\\AppData\\Local\\Temp\\ipykernel_15908\\185838076.py:2: DtypeWarning: Columns (16) have mixed types. Specify dtype option on import or set low_memory=False.\n",
      "  df = pd.read_csv('C:/Users/nazih/Downloads/cic_iot/Spoofing/DNS_Spoofing.csv')\n"
     ]
    },
    {
     "name": "stdout",
     "output_type": "stream",
     "text": [
      "        stream                  src_mac                       dst_mac  \\\n",
      "0           -1  Netatmo Weather Station             ff:ff:ff:ff:ff:ff   \n",
      "1           -1              Wyze Camera             ff:ff:ff:ff:ff:ff   \n",
      "2           -1              Wyze Camera             e8:1b:69:f8:d4:e3   \n",
      "3           -1              Wyze Camera             ff:ff:ff:ff:ff:ff   \n",
      "4           -1        3c:18:a0:41:c3:a0       Netatmo Weather Station   \n",
      "...        ...                      ...                           ...   \n",
      "296020      35        3c:18:a0:41:c3:a0  HeimVision Smart WiFi Camera   \n",
      "296021      -1        3c:18:a0:41:c3:a0                Netatmo Camera   \n",
      "296022    4061              Wyze Camera             3c:18:a0:41:c3:a0   \n",
      "296023      -1  Netatmo Weather Station             ff:ff:ff:ff:ff:ff   \n",
      "296024    6764        3c:18:a0:41:c3:a0                   Wyze Camera   \n",
      "\n",
      "                src_ip           dst_ip  src_port  dst_port  \\\n",
      "0                  NaN              NaN         0         0   \n",
      "1                  NaN              NaN         0         0   \n",
      "2       192.168.137.49  192.168.137.126         0         0   \n",
      "3                  NaN              NaN         0         0   \n",
      "4                  NaN              NaN         0         0   \n",
      "...                ...              ...       ...       ...   \n",
      "296020    47.88.56.147   192.168.137.40     50920     58785   \n",
      "296021  205.174.165.65  192.168.137.113         0         0   \n",
      "296022  192.168.137.49    52.88.146.217     47822       443   \n",
      "296023             NaN              NaN         0         0   \n",
      "296024         8.8.8.8   192.168.137.49        53     37207   \n",
      "\n",
      "        inter_arrival_time  time_since_previously_displayed_frame  \\\n",
      "0                 0.000000                               0.000000   \n",
      "1                 0.082751                               0.082751   \n",
      "2                 0.101622                               0.018871   \n",
      "3                 0.105523                               0.003901   \n",
      "4                 0.116887                               0.011364   \n",
      "...                    ...                                    ...   \n",
      "296020        13333.128167                               0.022601   \n",
      "296021        13333.129483                               0.001316   \n",
      "296022        13333.146496                               0.017013   \n",
      "296023        13333.151215                               0.004719   \n",
      "296024        13333.152738                               0.001523   \n",
      "\n",
      "        port_class_dst  ...  min_p   max_p  med_p  average_p          var_p  \\\n",
      "0                    1  ...    0.0     0.0    0.0       0.00       0.000000   \n",
      "1                    1  ...    0.0     0.0    0.0       0.00       0.000000   \n",
      "2                    0  ...    0.0     0.0    0.0       0.00       0.000000   \n",
      "3                    0  ...    0.0     0.0    0.0       0.00       0.000000   \n",
      "4                    0  ...    0.0     0.0    0.0       0.00       0.000000   \n",
      "...                ...  ...    ...     ...    ...        ...            ...   \n",
      "296020               3  ...    0.0   529.0    0.5      40.05   13670.050000   \n",
      "296021               0  ...    0.0   529.0    0.5      40.05   13670.050000   \n",
      "296022               1  ...   12.0  1543.0   55.5     223.50  200275.526316   \n",
      "296023               1  ...    0.0     0.0    0.0       0.00       0.000000   \n",
      "296024               2  ...   12.0  1543.0   64.0     232.55  197883.944737   \n",
      "\n",
      "         q3_p  q1_p  iqr_p  l3_ip_dst_count         Label  \n",
      "0         0.0   0.0    0.0              1.0  DNS_Spoofing  \n",
      "1         0.0   0.0    0.0              1.0  DNS_Spoofing  \n",
      "2         0.0   0.0    0.0              1.0  DNS_Spoofing  \n",
      "3         0.0   0.0    0.0              1.0  DNS_Spoofing  \n",
      "4         0.0   0.0    0.0              2.0  DNS_Spoofing  \n",
      "...       ...   ...    ...              ...           ...  \n",
      "296020   27.0   0.0   27.0            127.0  DNS_Spoofing  \n",
      "296021   27.0   0.0   27.0            127.0  DNS_Spoofing  \n",
      "296022  159.5  12.0  147.5             42.0  DNS_Spoofing  \n",
      "296023    0.0   0.0    0.0              1.0  DNS_Spoofing  \n",
      "296024  191.5  12.0  179.5             42.0  DNS_Spoofing  \n",
      "\n",
      "[296025 rows x 136 columns]\n"
     ]
    }
   ],
   "source": [
    "# Load CSV\n",
    "df = pd.read_csv('C:/Users/nazih/Downloads/cic_iot/Spoofing/DNS_Spoofing.csv')\n",
    "\n",
    "# Add a label column (manually assign for small datasets)\n",
    "df['Label'] = 'DNS_Spoofing' # Adjust based on your data\n",
    "\n",
    "# Alternatively, review and assign labels interactively\n",
    "# Example: Label based on a condition (if applicable)\n",
    "\n",
    "# Save updated CSV\n",
    "df.to_csv('labeled_dataset_DNS_spoofing.csv', index=False)\n",
    "print(df)"
   ]
  },
  {
   "cell_type": "code",
   "execution_count": 23,
   "metadata": {},
   "outputs": [
    {
     "name": "stderr",
     "output_type": "stream",
     "text": [
      "C:\\Users\\nazih\\AppData\\Local\\Temp\\ipykernel_15908\\3536028425.py:2: DtypeWarning: Columns (16) have mixed types. Specify dtype option on import or set low_memory=False.\n",
      "  df = pd.read_csv('C:/Users/nazih/Downloads/cic_iot/Spoofing/MITM-ArpSpoofing.csv')\n"
     ]
    },
    {
     "name": "stdout",
     "output_type": "stream",
     "text": [
      "        stream             src_mac            dst_mac           src_ip  \\\n",
      "0            0         Wyze Camera  3c:18:a0:41:c3:a0   192.168.137.11   \n",
      "1            0         Wyze Camera  3c:18:a0:41:c3:a0   192.168.137.11   \n",
      "2            0         Wyze Camera  3c:18:a0:41:c3:a0   192.168.137.11   \n",
      "3            0         Wyze Camera  3c:18:a0:41:c3:a0   192.168.137.11   \n",
      "4            1      Netatmo Camera  3c:18:a0:41:c3:a0   192.168.137.48   \n",
      "...        ...                 ...                ...              ...   \n",
      "290432       2  Amazon Echo Studio  3c:18:a0:41:c3:a0  192.168.137.162   \n",
      "290433       2  Amazon Echo Studio  3c:18:a0:41:c3:a0  192.168.137.162   \n",
      "290434       2  Amazon Echo Studio  3c:18:a0:41:c3:a0  192.168.137.162   \n",
      "290435       2  Amazon Echo Studio  3c:18:a0:41:c3:a0  192.168.137.162   \n",
      "290436       2  Amazon Echo Studio  3c:18:a0:41:c3:a0  192.168.137.162   \n",
      "\n",
      "                 dst_ip  src_port  dst_port  inter_arrival_time  \\\n",
      "0           35.86.13.17     39807       443            0.000000   \n",
      "1           35.86.13.17     39807       443            0.002363   \n",
      "2           35.86.13.17     39807       443            0.002791   \n",
      "3           35.86.13.17     39807       443            0.004199   \n",
      "4         51.145.143.28     56343       443            0.011399   \n",
      "...                 ...       ...       ...                 ...   \n",
      "290432  205.251.251.216     46142       443          207.792672   \n",
      "290433  205.251.251.216     46142       443          207.792693   \n",
      "290434  205.251.251.216     46142       443          207.792694   \n",
      "290435  205.251.251.216     46142       443          207.792695   \n",
      "290436  205.251.251.216     46142       443          207.792696   \n",
      "\n",
      "        time_since_previously_displayed_frame  port_class_dst  ...  min_p  \\\n",
      "0                                    0.000000               1  ...   12.0   \n",
      "1                                    0.002363               1  ...   12.0   \n",
      "2                                    0.000428               1  ...   12.0   \n",
      "3                                    0.001408               1  ...   12.0   \n",
      "4                                    0.007200               1  ...   20.0   \n",
      "...                                       ...             ...  ...    ...   \n",
      "290432                               0.000000               1  ...   32.0   \n",
      "290433                               0.000021               1  ...   32.0   \n",
      "290434                               0.000001               1  ...   32.0   \n",
      "290435                               0.000001               1  ...   32.0   \n",
      "290436                               0.000001               1  ...   32.0   \n",
      "\n",
      "        max_p  med_p  average_p      var_p  q3_p  q1_p  iqr_p  \\\n",
      "0        12.0   12.0       12.0   0.000000  12.0  12.0    0.0   \n",
      "1        12.0   12.0       12.0   0.000000  12.0  12.0    0.0   \n",
      "2        12.0   12.0       12.0   0.000000  12.0  12.0    0.0   \n",
      "3        12.0   12.0       12.0   0.000000  12.0  12.0    0.0   \n",
      "4        20.0   20.0       20.0   0.000000  20.0  20.0    0.0   \n",
      "...       ...    ...        ...        ...   ...   ...    ...   \n",
      "290432   40.0   40.0       39.6   3.200000  40.0  40.0    0.0   \n",
      "290433   40.0   40.0       39.2   6.063158  40.0  40.0    0.0   \n",
      "290434   40.0   40.0       38.8   8.589474  40.0  40.0    0.0   \n",
      "290435   40.0   40.0       38.4  10.778947  40.0  40.0    0.0   \n",
      "290436   40.0   40.0       38.0  12.631579  40.0  38.0    2.0   \n",
      "\n",
      "        l3_ip_dst_count             Label  \n",
      "0                   1.0  MITM-ArpSpoofing  \n",
      "1                   1.0  MITM-ArpSpoofing  \n",
      "2                   1.0  MITM-ArpSpoofing  \n",
      "3                   1.0  MITM-ArpSpoofing  \n",
      "4                   1.0  MITM-ArpSpoofing  \n",
      "...                 ...               ...  \n",
      "290432              8.0  MITM-ArpSpoofing  \n",
      "290433              8.0  MITM-ArpSpoofing  \n",
      "290434              8.0  MITM-ArpSpoofing  \n",
      "290435              8.0  MITM-ArpSpoofing  \n",
      "290436              8.0  MITM-ArpSpoofing  \n",
      "\n",
      "[290437 rows x 136 columns]\n"
     ]
    }
   ],
   "source": [
    "# Load CSV\n",
    "df = pd.read_csv('C:/Users/nazih/Downloads/cic_iot/Spoofing/MITM-ArpSpoofing.csv')\n",
    "\n",
    "# Add a label column (manually assign for small datasets)\n",
    "df['Label'] = 'MITM-ArpSpoofing' # Adjust based on your data\n",
    "\n",
    "# Alternatively, review and assign labels interactively\n",
    "# Example: Label based on a condition (if applicable)\n",
    "\n",
    "# Save updated CSV\n",
    "df.to_csv('labeled_dataset_MITM_ArpSpoofing.csv', index=False)\n",
    "print(df)"
   ]
  },
  {
   "cell_type": "code",
   "execution_count": 24,
   "metadata": {},
   "outputs": [
    {
     "name": "stderr",
     "output_type": "stream",
     "text": [
      "C:\\Users\\nazih\\AppData\\Local\\Temp\\ipykernel_15908\\1652544270.py:6: DtypeWarning: Columns (16) have mixed types. Specify dtype option on import or set low_memory=False.\n",
      "  'dns': pd.read_csv('labeled_dataset_DNS_Spoofing.csv'),\n",
      "C:\\Users\\nazih\\AppData\\Local\\Temp\\ipykernel_15908\\1652544270.py:7: DtypeWarning: Columns (16) have mixed types. Specify dtype option on import or set low_memory=False.\n",
      "  'mitm': pd.read_csv('labeled_dataset_MITM_ArpSpoofing.csv')\n"
     ]
    },
    {
     "name": "stdout",
     "output_type": "stream",
     "text": [
      "benign dataset shape: (297063, 136)\n",
      "   stream               src_mac            dst_mac           src_ip  \\\n",
      "0       0  Arlo Q Indoor Camera  3c:18:a0:41:c3:a0  192.168.137.175   \n",
      "1       0  Arlo Q Indoor Camera  3c:18:a0:41:c3:a0  192.168.137.175   \n",
      "2       0  Arlo Q Indoor Camera  3c:18:a0:41:c3:a0  192.168.137.175   \n",
      "3       0  Arlo Q Indoor Camera  3c:18:a0:41:c3:a0  192.168.137.175   \n",
      "4       0  Arlo Q Indoor Camera  3c:18:a0:41:c3:a0  192.168.137.175   \n",
      "\n",
      "         dst_ip  src_port  dst_port  inter_arrival_time  \\\n",
      "0  99.81.244.93     56891       443            0.000000   \n",
      "1  99.81.244.93     56891       443            0.000164   \n",
      "2  99.81.244.93     56891       443            0.000269   \n",
      "3  99.81.244.93     56891       443            0.000414   \n",
      "4  99.81.244.93     56891       443            0.001800   \n",
      "\n",
      "   time_since_previously_displayed_frame  port_class_dst  ...   min_p   max_p  \\\n",
      "0                               0.000000               1  ...  2908.0  2908.0   \n",
      "1                               0.000164               1  ...  2908.0  2908.0   \n",
      "2                               0.000105               1  ...  1460.0  2908.0   \n",
      "3                               0.000145               1  ...  1460.0  2908.0   \n",
      "4                               0.001386               1  ...  1460.0  2908.0   \n",
      "\n",
      "    med_p  average_p          var_p    q3_p    q1_p  iqr_p  l3_ip_dst_count  \\\n",
      "0  2908.0     2908.0       0.000000  2908.0  2908.0    0.0              1.0   \n",
      "1  2908.0     2908.0       0.000000  2908.0  2908.0    0.0              1.0   \n",
      "2  2908.0     2835.6  104835.200000  2908.0  2908.0    0.0              1.0   \n",
      "3  2908.0     2763.2  198635.115789  2908.0  2908.0    0.0              1.0   \n",
      "4  2908.0     2690.8  281399.747368  2908.0  2908.0    0.0              1.0   \n",
      "\n",
      "           Label  \n",
      "0  BenignTraffic  \n",
      "1  BenignTraffic  \n",
      "2  BenignTraffic  \n",
      "3  BenignTraffic  \n",
      "4  BenignTraffic  \n",
      "\n",
      "[5 rows x 136 columns]\n",
      "dns dataset shape: (296025, 136)\n",
      "   stream                  src_mac                  dst_mac          src_ip  \\\n",
      "0      -1  Netatmo Weather Station        ff:ff:ff:ff:ff:ff             NaN   \n",
      "1      -1              Wyze Camera        ff:ff:ff:ff:ff:ff             NaN   \n",
      "2      -1              Wyze Camera        e8:1b:69:f8:d4:e3  192.168.137.49   \n",
      "3      -1              Wyze Camera        ff:ff:ff:ff:ff:ff             NaN   \n",
      "4      -1        3c:18:a0:41:c3:a0  Netatmo Weather Station             NaN   \n",
      "\n",
      "            dst_ip  src_port  dst_port  inter_arrival_time  \\\n",
      "0              NaN         0         0            0.000000   \n",
      "1              NaN         0         0            0.082751   \n",
      "2  192.168.137.126         0         0            0.101622   \n",
      "3              NaN         0         0            0.105523   \n",
      "4              NaN         0         0            0.116887   \n",
      "\n",
      "   time_since_previously_displayed_frame  port_class_dst  ...  min_p  max_p  \\\n",
      "0                               0.000000               1  ...    0.0    0.0   \n",
      "1                               0.082751               1  ...    0.0    0.0   \n",
      "2                               0.018871               0  ...    0.0    0.0   \n",
      "3                               0.003901               0  ...    0.0    0.0   \n",
      "4                               0.011364               0  ...    0.0    0.0   \n",
      "\n",
      "   med_p  average_p  var_p  q3_p q1_p  iqr_p  l3_ip_dst_count         Label  \n",
      "0    0.0        0.0    0.0   0.0  0.0    0.0              1.0  DNS_Spoofing  \n",
      "1    0.0        0.0    0.0   0.0  0.0    0.0              1.0  DNS_Spoofing  \n",
      "2    0.0        0.0    0.0   0.0  0.0    0.0              1.0  DNS_Spoofing  \n",
      "3    0.0        0.0    0.0   0.0  0.0    0.0              1.0  DNS_Spoofing  \n",
      "4    0.0        0.0    0.0   0.0  0.0    0.0              2.0  DNS_Spoofing  \n",
      "\n",
      "[5 rows x 136 columns]\n",
      "mitm dataset shape: (290437, 136)\n",
      "   stream         src_mac            dst_mac          src_ip         dst_ip  \\\n",
      "0       0     Wyze Camera  3c:18:a0:41:c3:a0  192.168.137.11    35.86.13.17   \n",
      "1       0     Wyze Camera  3c:18:a0:41:c3:a0  192.168.137.11    35.86.13.17   \n",
      "2       0     Wyze Camera  3c:18:a0:41:c3:a0  192.168.137.11    35.86.13.17   \n",
      "3       0     Wyze Camera  3c:18:a0:41:c3:a0  192.168.137.11    35.86.13.17   \n",
      "4       1  Netatmo Camera  3c:18:a0:41:c3:a0  192.168.137.48  51.145.143.28   \n",
      "\n",
      "   src_port  dst_port  inter_arrival_time  \\\n",
      "0     39807       443            0.000000   \n",
      "1     39807       443            0.002363   \n",
      "2     39807       443            0.002791   \n",
      "3     39807       443            0.004199   \n",
      "4     56343       443            0.011399   \n",
      "\n",
      "   time_since_previously_displayed_frame  port_class_dst  ...  min_p  max_p  \\\n",
      "0                               0.000000               1  ...   12.0   12.0   \n",
      "1                               0.002363               1  ...   12.0   12.0   \n",
      "2                               0.000428               1  ...   12.0   12.0   \n",
      "3                               0.001408               1  ...   12.0   12.0   \n",
      "4                               0.007200               1  ...   20.0   20.0   \n",
      "\n",
      "   med_p  average_p  var_p  q3_p  q1_p  iqr_p  l3_ip_dst_count  \\\n",
      "0   12.0       12.0    0.0  12.0  12.0    0.0              1.0   \n",
      "1   12.0       12.0    0.0  12.0  12.0    0.0              1.0   \n",
      "2   12.0       12.0    0.0  12.0  12.0    0.0              1.0   \n",
      "3   12.0       12.0    0.0  12.0  12.0    0.0              1.0   \n",
      "4   20.0       20.0    0.0  20.0  20.0    0.0              1.0   \n",
      "\n",
      "              Label  \n",
      "0  MITM-ArpSpoofing  \n",
      "1  MITM-ArpSpoofing  \n",
      "2  MITM-ArpSpoofing  \n",
      "3  MITM-ArpSpoofing  \n",
      "4  MITM-ArpSpoofing  \n",
      "\n",
      "[5 rows x 136 columns]\n"
     ]
    }
   ],
   "source": [
    "import pandas as pd\n",
    "\n",
    "# Load datasets into a dictionary\n",
    "datasets = {\n",
    "    'benign': pd.read_csv('labeled_dataset_benign.csv'),\n",
    "    'dns': pd.read_csv('labeled_dataset_DNS_Spoofing.csv'),\n",
    "    'mitm': pd.read_csv('labeled_dataset_MITM_ArpSpoofing.csv')\n",
    "}\n",
    "\n",
    "# Verify loaded data\n",
    "for name, df in datasets.items():\n",
    "    print(f\"{name} dataset shape: {df.shape}\")\n",
    "    print(df.head(5))"
   ]
  },
  {
   "cell_type": "code",
   "execution_count": 25,
   "metadata": {},
   "outputs": [
    {
     "name": "stderr",
     "output_type": "stream",
     "text": [
      "C:\\Users\\nazih\\AppData\\Local\\Temp\\ipykernel_15908\\1428759711.py:6: DtypeWarning: Columns (16) have mixed types. Specify dtype option on import or set low_memory=False.\n",
      "  'dns': pd.read_csv('labeled_dataset_DNS_Spoofing.csv'),\n",
      "C:\\Users\\nazih\\AppData\\Local\\Temp\\ipykernel_15908\\1428759711.py:7: DtypeWarning: Columns (16) have mixed types. Specify dtype option on import or set low_memory=False.\n",
      "  'mitm': pd.read_csv('labeled_dataset_MITM_ArpSpoofing.csv')\n"
     ]
    }
   ],
   "source": [
    "import pandas as pd\n",
    "\n",
    "# Load and combine datasets (as before)\n",
    "datasets = {\n",
    "    'benign': pd.read_csv('labeled_dataset_benign.csv'),\n",
    "    'dns': pd.read_csv('labeled_dataset_DNS_Spoofing.csv'),\n",
    "    'mitm': pd.read_csv('labeled_dataset_MITM_ArpSpoofing.csv')\n",
    "}\n",
    "combined_df = pd.concat([datasets['benign'], datasets['dns'], datasets['mitm']], ignore_index=True)\n",
    "\n",
    "# Features (X) and targets\n",
    "X = combined_df.drop(['Label', 'src_mac'], axis=1, errors='ignore')  # Drop targets, ignore if missing\n",
    "y_attack = combined_df['Label']  # For attack detection\n",
    "y_device = combined_df['src_mac']  # For device identification"
   ]
  },
  {
   "cell_type": "code",
   "execution_count": 26,
   "id": "86487e6a",
   "metadata": {},
   "outputs": [
    {
     "name": "stdout",
     "output_type": "stream",
     "text": [
      "['Arlo Q Indoor Camera' 'HeimVision Smart WiFi Camera'\n",
      " 'Nest Indoor Camera' 'ac:17:02:05:34:27' 'Teckin Plug 2'\n",
      " 'Amazon Echo Show' 'Yutron Plug 2' 'GoSund Smart plug WP2 (1)'\n",
      " 'Netatmo Weather Station' 'Gosund Power strip (1)' 'GoSund Bulb'\n",
      " '24:05:88:30:6f:89' 'Yi Indoor 2 Camera' 'Wyze Camera'\n",
      " '3c:18:a0:41:c3:a0' 'Yutron Plug 1' 'Google Nest Mini Speaker'\n",
      " 'LIFX Lightbulb' 'HeimVision SmartLife Radio/Lamp' '00:a3:d1:07:6f:03'\n",
      " 'e8:1b:69:f8:d4:e3' '56:4f:8a:e1:f3:2d' 'Lumiman bulb'\n",
      " 'e8:1b:69:f8:d6:e6' 'GoSund Smart plug WP2 (3)' 'dc:a6:32:dc:27:d5'\n",
      " 'GoSund Power strip (2)' 'Amazon Echo Dot 2' 'Yi Outdoor Camera'\n",
      " 'Gosund Smart Plug WP3 (2)' 'Atomi Coffee Maker' 'Amazon Echo Studio'\n",
      " 'GoSund Smart Plug WP2 (2)' 'Teckin Light Strip' 'Home Eye Camera'\n",
      " 'harman kardon (Ampak Technology)' 'SmartThings Hub'\n",
      " 'GoSund Smart Plug WP3 (1)' 'Rbcior Camera' 'LampUX RGB'\n",
      " 'Yi Indoor Camera' 'Teckin Plug 1' 'Netatmo Camera'\n",
      " 'DCS8000LHA1 D-Link Mini Camera' 'Philips Hue Bridge'\n",
      " 'AeoTec Smart Home Hub' 'Amazon Echo Dot 1' 'Arlo Base Station'\n",
      " 'Eufy HomeBase 2' 'Cocoon Smart HVAC Fan' 'iRobot Roomba'\n",
      " 'AMCREST WiFi Camera' 'Levoit Air Purifier' 'b0:09:da:3e:82:6c'\n",
      " 'TP-Link Tapo Camera' 'Sonos One Speaker' 'Amazon Plug'\n",
      " 'Wemo smart plug 2 (Wemo id: Wemo.Mini.4A3)' '5c:26:0a:28:80:77'\n",
      " 'Govee Smart Humidifer' 'd4:81:d7:97:d0:29' 'Raspberry Pi 4-2 GB'\n",
      " 'dc:a6:32:c9:e4:c6' 'dc:a6:32:c9:e4:d5' 'dc:a6:32:c9:e5:a4'\n",
      " 'dc:a6:32:c9:e4:90' 'dc:a6:32:c9:e5:ef' 'dc:a6:32:c9:e4:ab'\n",
      " 'e4:5f:01:55:90:c4' 'Smart Board' 'Borun/Sichuan-AI Camera'\n",
      " 'Amazon Echo Spot' 'Globe Lamp ESP_B1680C'\n",
      " 'Wemo smart plug 1 (Wemo id: Wemo.Mini.AD3)' '00:a3:d1:07:6f:47'\n",
      " 'SIMCAM 1S (AMPAKTec)' 'Luohe Cam Dog']\n"
     ]
    }
   ],
   "source": [
    "print(y_device.unique())"
   ]
  },
  {
   "cell_type": "code",
   "execution_count": 27,
   "id": "2cedaa89",
   "metadata": {},
   "outputs": [],
   "source": [
    "import re\n",
    "\n",
    "def is_hex_mac(mac):\n",
    "    if pd.isna(mac) or mac == 'unknown':  # Skip NaN or filled values\n",
    "        return False\n",
    "    pattern = r'^([0-9A-Fa-f]{2}[:-]){5}([0-9A-Fa-f]{2})$'\n",
    "    return bool(re.match(pattern, str(mac)))"
   ]
  },
  {
   "cell_type": "code",
   "execution_count": 28,
   "id": "4d483fb2",
   "metadata": {},
   "outputs": [],
   "source": [
    "# Remove rows where src_mac is a hex MAC address\n",
    "combined_df = combined_df[~combined_df['src_mac'].apply(is_hex_mac)]"
   ]
  },
  {
   "cell_type": "code",
   "execution_count": 30,
   "id": "6ac71b43",
   "metadata": {},
   "outputs": [],
   "source": [
    "# Features (X) and targets\n",
    "X = combined_df.drop(['Label', 'src_mac'], axis=1, errors='ignore')  # Drop targets, ignore if missing\n",
    "y_attack = combined_df['Label']  # For attack detection\n",
    "y_device = combined_df['src_mac']  # For device identification\n",
    "\n"
   ]
  },
  {
   "cell_type": "code",
   "execution_count": 31,
   "id": "0edfa53b",
   "metadata": {},
   "outputs": [
    {
     "name": "stdout",
     "output_type": "stream",
     "text": [
      "['Arlo Q Indoor Camera' 'HeimVision Smart WiFi Camera'\n",
      " 'Nest Indoor Camera' 'Teckin Plug 2' 'Amazon Echo Show' 'Yutron Plug 2'\n",
      " 'GoSund Smart plug WP2 (1)' 'Netatmo Weather Station'\n",
      " 'Gosund Power strip (1)' 'GoSund Bulb' 'Yi Indoor 2 Camera' 'Wyze Camera'\n",
      " 'Yutron Plug 1' 'Google Nest Mini Speaker' 'LIFX Lightbulb'\n",
      " 'HeimVision SmartLife Radio/Lamp' 'Lumiman bulb'\n",
      " 'GoSund Smart plug WP2 (3)' 'GoSund Power strip (2)' 'Amazon Echo Dot 2'\n",
      " 'Yi Outdoor Camera' 'Gosund Smart Plug WP3 (2)' 'Atomi Coffee Maker'\n",
      " 'Amazon Echo Studio' 'GoSund Smart Plug WP2 (2)' 'Teckin Light Strip'\n",
      " 'Home Eye Camera' 'harman kardon (Ampak Technology)' 'SmartThings Hub'\n",
      " 'GoSund Smart Plug WP3 (1)' 'Rbcior Camera' 'LampUX RGB'\n",
      " 'Yi Indoor Camera' 'Teckin Plug 1' 'Netatmo Camera'\n",
      " 'DCS8000LHA1 D-Link Mini Camera' 'Philips Hue Bridge'\n",
      " 'AeoTec Smart Home Hub' 'Amazon Echo Dot 1' 'Arlo Base Station'\n",
      " 'Eufy HomeBase 2' 'Cocoon Smart HVAC Fan' 'iRobot Roomba'\n",
      " 'AMCREST WiFi Camera' 'Levoit Air Purifier' 'TP-Link Tapo Camera'\n",
      " 'Sonos One Speaker' 'Amazon Plug'\n",
      " 'Wemo smart plug 2 (Wemo id: Wemo.Mini.4A3)' 'Govee Smart Humidifer'\n",
      " 'Raspberry Pi 4-2 GB' 'Smart Board' 'Borun/Sichuan-AI Camera'\n",
      " 'Amazon Echo Spot' 'Globe Lamp ESP_B1680C'\n",
      " 'Wemo smart plug 1 (Wemo id: Wemo.Mini.AD3)' 'SIMCAM 1S (AMPAKTec)'\n",
      " 'Luohe Cam Dog']\n"
     ]
    }
   ],
   "source": [
    "print(y_device.unique())"
   ]
  },
  {
   "cell_type": "code",
   "execution_count": null,
   "id": "18336fb4",
   "metadata": {},
   "outputs": [
    {
     "name": "stdout",
     "output_type": "stream",
     "text": [
      "Label\n",
      "BenignTraffic       297063\n",
      "DNS_Spoofing        296025\n",
      "MITM-ArpSpoofing    290437\n",
      "Name: count, dtype: int64\n"
     ]
    }
   ],
   "source": [
    "print(y_attack.value_counts())"
   ]
  },
  {
   "cell_type": "code",
   "execution_count": null,
   "id": "75d616ab",
   "metadata": {},
   "outputs": [
    {
     "name": "stdout",
     "output_type": "stream",
     "text": [
      "stream               int64\n",
      "dst_mac             object\n",
      "src_ip              object\n",
      "dst_ip              object\n",
      "src_port             int64\n",
      "                    ...   \n",
      "var_p              float64\n",
      "q3_p               float64\n",
      "q1_p               float64\n",
      "iqr_p              float64\n",
      "l3_ip_dst_count    float64\n",
      "Length: 134, dtype: object\n"
     ]
    }
   ],
   "source": [
    "import pandas as pd\n",
    "\n",
    "# Assuming X is already created\n",
    "print(X.dtypes)"
   ]
  },
  {
   "cell_type": "code",
   "execution_count": null,
   "id": "340c962f",
   "metadata": {},
   "outputs": [
    {
     "name": "stdout",
     "output_type": "stream",
     "text": [
      "Categorical features: ['dst_mac', 'src_ip', 'dst_ip', 'port_class_dst', 'l4_tcp', 'l4_udp', 'handshake_version', 'handshake_ciphersuites', 'tls_server', 'http_request_method', 'http_host', 'http_response_code', 'user_agent', 'dns_server', 'dns_query_type', 'device_mac', 'eth_src_oui', 'eth_dst_oui', 'highest_layer', 'http_uri', 'http_content_type', 'icmp_type', 'icmp_checksum_status', 'icmp_data_size']\n"
     ]
    }
   ],
   "source": [
    "# Get columns with few unique values (e.g., less than 10)\n",
    "categorical_cols = [col for col in X.columns if X[col].nunique() < 10 or X[col].dtype == 'object']\n",
    "print(f\"Categorical features: {categorical_cols}\")"
   ]
  },
  {
   "cell_type": "code",
   "execution_count": null,
   "id": "dc5a8404",
   "metadata": {},
   "outputs": [],
   "source": [
    "for col in categorical_cols:\n",
    "    X[col] = X[col].astype(str).fillna('unknown')\n",
    "\n",
    "#Fill numerical columns with median (or mean)\n",
    "numerical_cols = combined_df.select_dtypes(include=['int64', 'float64']).columns\n",
    "for col in numerical_cols:\n",
    "    combined_df[col] = combined_df[col].fillna(combined_df[col].median())\n",
    "\n"
   ]
  },
  {
   "cell_type": "code",
   "execution_count": null,
   "id": "1795d6fe",
   "metadata": {},
   "outputs": [
    {
     "name": "stdout",
     "output_type": "stream",
     "text": [
      "Encoding completed successfully.\n",
      "Updated X columns: ['stream', 'dst_mac', 'src_ip', 'dst_ip', 'src_port', 'dst_port', 'inter_arrival_time', 'time_since_previously_displayed_frame', 'port_class_dst', 'l4_tcp', 'l4_udp', 'ttl', 'eth_size', 'tcp_window_size', 'payload_entropy', 'handshake_version', 'handshake_cipher_suites_length', 'handshake_ciphersuites', 'handshake_extensions_length', 'tls_server', 'handshake_sig_hash_alg_len', 'http_request_method', 'http_host', 'http_response_code', 'user_agent', 'dns_server', 'dns_query_type', 'dns_len_qry', 'dns_interval', 'dns_len_ans', 'device_mac', 'eth_src_oui', 'eth_dst_oui', 'payload_length', 'highest_layer', 'http_uri', 'http_content_len', 'http_content_type', 'icmp_type', 'icmp_checksum_status', 'icmp_data_size', 'jitter', 'stream_1_count', 'stream_1_mean', 'stream_1_var', 'src_ip_1_count', 'src_ip_1_mean', 'src_ip_1_var', 'src_ip_mac_1_count', 'src_ip_mac_1_mean', 'src_ip_mac_1_var', 'channel_1_count', 'channel_1_mean', 'channel_1_var', 'stream_jitter_1_sum', 'stream_jitter_1_mean', 'stream_jitter_1_var', 'stream_5_count', 'stream_5_mean', 'stream_5_var', 'src_ip_5_count', 'src_ip_5_mean', 'src_ip_5_var', 'src_ip_mac_5_count', 'src_ip_mac_5_mean', 'src_ip_mac_5_var', 'channel_5_count', 'channel_5_mean', 'channel_5_var', 'stream_jitter_5_sum', 'stream_jitter_5_mean', 'stream_jitter_5_var', 'stream_10_count', 'stream_10_mean', 'stream_10_var', 'src_ip_10_count', 'src_ip_10_mean', 'src_ip_10_var', 'src_ip_mac_10_count', 'src_ip_mac_10_mean', 'src_ip_mac_10_var', 'channel_10_count', 'channel_10_mean', 'channel_10_var', 'stream_jitter_10_sum', 'stream_jitter_10_mean', 'stream_jitter_10_var', 'stream_30_count', 'stream_30_mean', 'stream_30_var', 'src_ip_30_count', 'src_ip_30_mean', 'src_ip_30_var', 'src_ip_mac_30_count', 'src_ip_mac_30_mean', 'src_ip_mac_30_var', 'channel_30_count', 'channel_30_mean', 'channel_30_var', 'stream_jitter_30_sum', 'stream_jitter_30_mean', 'stream_jitter_30_var', 'stream_60_count', 'stream_60_mean', 'stream_60_var', 'src_ip_60_count', 'src_ip_60_mean', 'src_ip_60_var', 'src_ip_mac_60_count', 'src_ip_mac_60_mean', 'src_ip_mac_60_var', 'channel_60_count', 'channel_60_mean', 'channel_60_var', 'stream_jitter_60_sum', 'stream_jitter_60_mean', 'stream_jitter_60_var', 'ntp_interval', 'most_freq_spot', 'min_et', 'q1', 'min_e', 'var_e', 'q1_e', 'sum_p', 'min_p', 'max_p', 'med_p', 'average_p', 'var_p', 'q3_p', 'q1_p', 'iqr_p', 'l3_ip_dst_count']\n"
     ]
    }
   ],
   "source": [
    "from sklearn.preprocessing import LabelEncoder\n",
    "\n",
    "# Identify categorical columns\n",
    "categorical_cols = [col for col in X.columns if X[col].nunique() < 10 or X[col].dtype == 'object']\n",
    "le = LabelEncoder()\n",
    "\n",
    "for col in categorical_cols:\n",
    "    X[col] = le.fit_transform(X[col].astype(str).fillna('unknown'))\n",
    "\n",
    "le_device = LabelEncoder()\n",
    "y_device_encoded = le_device.fit_transform(y_device)\n",
    "print(\"Encoding completed successfully.\")\n",
    "print(f\"Updated X columns: {X.columns.tolist()}\")"
   ]
  },
  {
   "cell_type": "code",
   "execution_count": null,
   "id": "d8b601a4",
   "metadata": {},
   "outputs": [
    {
     "name": "stdout",
     "output_type": "stream",
     "text": [
      "stream                 0\n",
      "src_mac                0\n",
      "dst_mac                0\n",
      "src_ip             20034\n",
      "dst_ip             20034\n",
      "                   ...  \n",
      "q3_p                   0\n",
      "q1_p                   0\n",
      "iqr_p                  0\n",
      "l3_ip_dst_count        0\n",
      "Label                  0\n",
      "Length: 136, dtype: int64\n"
     ]
    }
   ],
   "source": [
    "print(combined_df.isnull().sum())"
   ]
  },
  {
   "cell_type": "code",
   "execution_count": null,
   "id": "4ac6c723",
   "metadata": {},
   "outputs": [
    {
     "name": "stdout",
     "output_type": "stream",
     "text": [
      "Number of duplicate rows: 0\n",
      "New shape after removing duplicates: (432555, 136)\n"
     ]
    }
   ],
   "source": [
    "print(f\"Number of duplicate rows: {combined_df.duplicated().sum()}\")\n",
    "combined_df = combined_df.drop_duplicates()\n",
    "print(f\"New shape after removing duplicates: {combined_df.shape}\")"
   ]
  },
  {
   "cell_type": "code",
   "execution_count": null,
   "id": "bd804bb8",
   "metadata": {},
   "outputs": [],
   "source": [
    "from sklearn.model_selection import train_test_split\n",
    "\n",
    "# Split for attack detection\n",
    "X_train_attack, X_test_attack, y_train_attack, y_test_attack = train_test_split(\n",
    "    X, y_attack, test_size=0.2, random_state=42, stratify=y_attack\n",
    ")\n",
    "\n",
    "# Split for device identification\n",
    "X_train_device, X_test_device, y_train_device, y_test_device = train_test_split(\n",
    "    X, y_device_encoded, test_size=0.2, random_state=42, stratify=y_device_encoded\n",
    ")"
   ]
  },
  {
   "cell_type": "code",
   "execution_count": null,
   "id": "81252c6e",
   "metadata": {},
   "outputs": [],
   "source": []
  },
  {
   "cell_type": "code",
   "execution_count": null,
   "id": "97ecfed0",
   "metadata": {},
   "outputs": [],
   "source": []
  },
  {
   "cell_type": "code",
   "execution_count": null,
   "id": "01e3f2e3",
   "metadata": {},
   "outputs": [],
   "source": []
  },
  {
   "cell_type": "code",
   "execution_count": null,
   "id": "0046b360",
   "metadata": {},
   "outputs": [],
   "source": []
  },
  {
   "cell_type": "code",
   "execution_count": null,
   "id": "234b7c66",
   "metadata": {},
   "outputs": [],
   "source": []
  }
 ],
 "metadata": {
  "kernelspec": {
   "display_name": "Python 3",
   "language": "python",
   "name": "python3"
  },
  "language_info": {
   "codemirror_mode": {
    "name": "ipython",
    "version": 3
   },
   "file_extension": ".py",
   "mimetype": "text/x-python",
   "name": "python",
   "nbconvert_exporter": "python",
   "pygments_lexer": "ipython3",
   "version": "3.11.4"
  }
 },
 "nbformat": 4,
 "nbformat_minor": 5
}
