{
 "cells": [
  {
   "cell_type": "code",
   "execution_count": 153,
   "id": "7592210c",
   "metadata": {},
   "outputs": [],
   "source": [
    "import pandas as pd"
   ]
  },
  {
   "cell_type": "code",
   "execution_count": 154,
   "metadata": {},
   "outputs": [
    {
     "name": "stdout",
     "output_type": "stream",
     "text": [
      "        stream                       src_mac             dst_mac  \\\n",
      "0            0          Arlo Q Indoor Camera   3c:18:a0:41:c3:a0   \n",
      "1            0          Arlo Q Indoor Camera   3c:18:a0:41:c3:a0   \n",
      "2            0          Arlo Q Indoor Camera   3c:18:a0:41:c3:a0   \n",
      "3            0          Arlo Q Indoor Camera   3c:18:a0:41:c3:a0   \n",
      "4            0          Arlo Q Indoor Camera   3c:18:a0:41:c3:a0   \n",
      "...        ...                           ...                 ...   \n",
      "297058       0  HeimVision Smart WiFi Camera   01:00:5e:7f:ff:fa   \n",
      "297059    7998             3c:18:a0:41:c3:a0   ac:17:02:05:34:27   \n",
      "297060    7998             3c:18:a0:41:c3:a0   ac:17:02:05:34:27   \n",
      "297061   15507               Home Eye Camera   3c:18:a0:41:c3:a0   \n",
      "297062       1             3c:18:a0:41:c3:a0  Nest Indoor Camera   \n",
      "\n",
      "                 src_ip           dst_ip  src_port  dst_port  \\\n",
      "0       192.168.137.175     99.81.244.93     56891       443   \n",
      "1       192.168.137.175     99.81.244.93     56891       443   \n",
      "2       192.168.137.175     99.81.244.93     56891       443   \n",
      "3       192.168.137.175     99.81.244.93     56891       443   \n",
      "4       192.168.137.175     99.81.244.93     56891       443   \n",
      "...                 ...              ...       ...       ...   \n",
      "297058   192.168.137.90  239.255.255.250     37020     37000   \n",
      "297059   157.249.81.141   192.168.137.41       443     60940   \n",
      "297060   157.249.81.141   192.168.137.41       443     60940   \n",
      "297061  192.168.137.133  111.235.248.121     44935       123   \n",
      "297062    35.185.101.66   192.168.137.46       443     48335   \n",
      "\n",
      "        inter_arrival_time  time_since_previously_displayed_frame  \\\n",
      "0                 0.000000                               0.000000   \n",
      "1                 0.000164                               0.000164   \n",
      "2                 0.000269                               0.000105   \n",
      "3                 0.000414                               0.000145   \n",
      "4                 0.001800                               0.001386   \n",
      "...                    ...                                    ...   \n",
      "297058         5204.604663                               0.054752   \n",
      "297059         5204.606735                               0.002072   \n",
      "297060         5204.606736                               0.000001   \n",
      "297061         5204.630969                               0.024233   \n",
      "297062         5204.650918                               0.019949   \n",
      "\n",
      "        port_class_dst  ...   min_p   max_p   med_p  average_p          var_p  \\\n",
      "0                    1  ...  2908.0  2908.0  2908.0    2908.00       0.000000   \n",
      "1                    1  ...  2908.0  2908.0  2908.0    2908.00       0.000000   \n",
      "2                    1  ...  1460.0  2908.0  2908.0    2835.60  104835.200000   \n",
      "3                    1  ...  1460.0  2908.0  2908.0    2763.20  198635.115789   \n",
      "4                    1  ...  1460.0  2908.0  2908.0    2690.80  281399.747368   \n",
      "...                ...  ...     ...     ...     ...        ...            ...   \n",
      "297058               2  ...     6.0   176.0   176.0     117.45    5578.050000   \n",
      "297059               3  ...    12.0   387.0    16.0      58.70   10578.115789   \n",
      "297060               3  ...    12.0   387.0    15.5      58.65   10582.239474   \n",
      "297061               1  ...     0.0    52.0    36.0      34.80     257.642105   \n",
      "297062               2  ...    12.0   118.0    12.0      53.30    2206.431579   \n",
      "\n",
      "          q3_p    q1_p  iqr_p  l3_ip_dst_count          Label  \n",
      "0       2908.0  2908.0    0.0              1.0  BenignTraffic  \n",
      "1       2908.0  2908.0    0.0              1.0  BenignTraffic  \n",
      "2       2908.0  2908.0    0.0              1.0  BenignTraffic  \n",
      "3       2908.0  2908.0    0.0              1.0  BenignTraffic  \n",
      "4       2908.0  2908.0    0.0              1.0  BenignTraffic  \n",
      "...        ...     ...    ...              ...            ...  \n",
      "297058   176.0    39.0  137.0              3.0  BenignTraffic  \n",
      "297059    32.0    12.0   20.0              9.0  BenignTraffic  \n",
      "297060    32.0    12.0   20.0              9.0  BenignTraffic  \n",
      "297061    48.0    18.0   30.0              8.0  BenignTraffic  \n",
      "297062   102.0    12.0   90.0              2.0  BenignTraffic  \n",
      "\n",
      "[297063 rows x 136 columns]\n"
     ]
    }
   ],
   "source": [
    "\n",
    "# Load CSV\n",
    "df = pd.read_csv('C:/Users/nazih/Downloads/cic_iot/BenignTraffic.csv')\n",
    "\n",
    "\n",
    "df['Label'] = 'BenignTraffic' \n",
    "\n",
    "\n",
    "\n",
    "# Save updated CSV\n",
    "df.to_csv('labeled_dataset_benign.csv', index=False)\n",
    "print(df)"
   ]
  },
  {
   "cell_type": "code",
   "execution_count": 155,
   "metadata": {},
   "outputs": [
    {
     "name": "stderr",
     "output_type": "stream",
     "text": [
      "C:\\Users\\nazih\\AppData\\Local\\Temp\\ipykernel_15908\\205077514.py:2: DtypeWarning: Columns (16) have mixed types. Specify dtype option on import or set low_memory=False.\n",
      "  df = pd.read_csv('C:/Users/nazih/Downloads/cic_iot/Spoofing/DNS_Spoofing.csv')\n"
     ]
    },
    {
     "name": "stdout",
     "output_type": "stream",
     "text": [
      "        stream                  src_mac                       dst_mac  \\\n",
      "0           -1  Netatmo Weather Station             ff:ff:ff:ff:ff:ff   \n",
      "1           -1              Wyze Camera             ff:ff:ff:ff:ff:ff   \n",
      "2           -1              Wyze Camera             e8:1b:69:f8:d4:e3   \n",
      "3           -1              Wyze Camera             ff:ff:ff:ff:ff:ff   \n",
      "4           -1        3c:18:a0:41:c3:a0       Netatmo Weather Station   \n",
      "...        ...                      ...                           ...   \n",
      "296020      35        3c:18:a0:41:c3:a0  HeimVision Smart WiFi Camera   \n",
      "296021      -1        3c:18:a0:41:c3:a0                Netatmo Camera   \n",
      "296022    4061              Wyze Camera             3c:18:a0:41:c3:a0   \n",
      "296023      -1  Netatmo Weather Station             ff:ff:ff:ff:ff:ff   \n",
      "296024    6764        3c:18:a0:41:c3:a0                   Wyze Camera   \n",
      "\n",
      "                src_ip           dst_ip  src_port  dst_port  \\\n",
      "0                  NaN              NaN         0         0   \n",
      "1                  NaN              NaN         0         0   \n",
      "2       192.168.137.49  192.168.137.126         0         0   \n",
      "3                  NaN              NaN         0         0   \n",
      "4                  NaN              NaN         0         0   \n",
      "...                ...              ...       ...       ...   \n",
      "296020    47.88.56.147   192.168.137.40     50920     58785   \n",
      "296021  205.174.165.65  192.168.137.113         0         0   \n",
      "296022  192.168.137.49    52.88.146.217     47822       443   \n",
      "296023             NaN              NaN         0         0   \n",
      "296024         8.8.8.8   192.168.137.49        53     37207   \n",
      "\n",
      "        inter_arrival_time  time_since_previously_displayed_frame  \\\n",
      "0                 0.000000                               0.000000   \n",
      "1                 0.082751                               0.082751   \n",
      "2                 0.101622                               0.018871   \n",
      "3                 0.105523                               0.003901   \n",
      "4                 0.116887                               0.011364   \n",
      "...                    ...                                    ...   \n",
      "296020        13333.128167                               0.022601   \n",
      "296021        13333.129483                               0.001316   \n",
      "296022        13333.146496                               0.017013   \n",
      "296023        13333.151215                               0.004719   \n",
      "296024        13333.152738                               0.001523   \n",
      "\n",
      "        port_class_dst  ...  min_p   max_p  med_p  average_p          var_p  \\\n",
      "0                    1  ...    0.0     0.0    0.0       0.00       0.000000   \n",
      "1                    1  ...    0.0     0.0    0.0       0.00       0.000000   \n",
      "2                    0  ...    0.0     0.0    0.0       0.00       0.000000   \n",
      "3                    0  ...    0.0     0.0    0.0       0.00       0.000000   \n",
      "4                    0  ...    0.0     0.0    0.0       0.00       0.000000   \n",
      "...                ...  ...    ...     ...    ...        ...            ...   \n",
      "296020               3  ...    0.0   529.0    0.5      40.05   13670.050000   \n",
      "296021               0  ...    0.0   529.0    0.5      40.05   13670.050000   \n",
      "296022               1  ...   12.0  1543.0   55.5     223.50  200275.526316   \n",
      "296023               1  ...    0.0     0.0    0.0       0.00       0.000000   \n",
      "296024               2  ...   12.0  1543.0   64.0     232.55  197883.944737   \n",
      "\n",
      "         q3_p  q1_p  iqr_p  l3_ip_dst_count         Label  \n",
      "0         0.0   0.0    0.0              1.0  DNS_Spoofing  \n",
      "1         0.0   0.0    0.0              1.0  DNS_Spoofing  \n",
      "2         0.0   0.0    0.0              1.0  DNS_Spoofing  \n",
      "3         0.0   0.0    0.0              1.0  DNS_Spoofing  \n",
      "4         0.0   0.0    0.0              2.0  DNS_Spoofing  \n",
      "...       ...   ...    ...              ...           ...  \n",
      "296020   27.0   0.0   27.0            127.0  DNS_Spoofing  \n",
      "296021   27.0   0.0   27.0            127.0  DNS_Spoofing  \n",
      "296022  159.5  12.0  147.5             42.0  DNS_Spoofing  \n",
      "296023    0.0   0.0    0.0              1.0  DNS_Spoofing  \n",
      "296024  191.5  12.0  179.5             42.0  DNS_Spoofing  \n",
      "\n",
      "[296025 rows x 136 columns]\n"
     ]
    }
   ],
   "source": [
    "# Load CSV\n",
    "df = pd.read_csv('C:/Users/nazih/Downloads/cic_iot/Spoofing/DNS_Spoofing.csv')\n",
    "\n",
    "df['Label'] = 'DNS_Spoofing' \n",
    "\n",
    "\n",
    "\n",
    "# Save updated CSV\n",
    "df.to_csv('labeled_dataset_DNS_spoofing.csv', index=False)\n",
    "print(df)"
   ]
  },
  {
   "cell_type": "code",
   "execution_count": 156,
   "metadata": {},
   "outputs": [
    {
     "name": "stderr",
     "output_type": "stream",
     "text": [
      "C:\\Users\\nazih\\AppData\\Local\\Temp\\ipykernel_15908\\1053915760.py:2: DtypeWarning: Columns (16) have mixed types. Specify dtype option on import or set low_memory=False.\n",
      "  df = pd.read_csv('C:/Users/nazih/Downloads/cic_iot/Spoofing/MITM-ArpSpoofing.csv')\n"
     ]
    },
    {
     "name": "stdout",
     "output_type": "stream",
     "text": [
      "        stream             src_mac            dst_mac           src_ip  \\\n",
      "0            0         Wyze Camera  3c:18:a0:41:c3:a0   192.168.137.11   \n",
      "1            0         Wyze Camera  3c:18:a0:41:c3:a0   192.168.137.11   \n",
      "2            0         Wyze Camera  3c:18:a0:41:c3:a0   192.168.137.11   \n",
      "3            0         Wyze Camera  3c:18:a0:41:c3:a0   192.168.137.11   \n",
      "4            1      Netatmo Camera  3c:18:a0:41:c3:a0   192.168.137.48   \n",
      "...        ...                 ...                ...              ...   \n",
      "290432       2  Amazon Echo Studio  3c:18:a0:41:c3:a0  192.168.137.162   \n",
      "290433       2  Amazon Echo Studio  3c:18:a0:41:c3:a0  192.168.137.162   \n",
      "290434       2  Amazon Echo Studio  3c:18:a0:41:c3:a0  192.168.137.162   \n",
      "290435       2  Amazon Echo Studio  3c:18:a0:41:c3:a0  192.168.137.162   \n",
      "290436       2  Amazon Echo Studio  3c:18:a0:41:c3:a0  192.168.137.162   \n",
      "\n",
      "                 dst_ip  src_port  dst_port  inter_arrival_time  \\\n",
      "0           35.86.13.17     39807       443            0.000000   \n",
      "1           35.86.13.17     39807       443            0.002363   \n",
      "2           35.86.13.17     39807       443            0.002791   \n",
      "3           35.86.13.17     39807       443            0.004199   \n",
      "4         51.145.143.28     56343       443            0.011399   \n",
      "...                 ...       ...       ...                 ...   \n",
      "290432  205.251.251.216     46142       443          207.792672   \n",
      "290433  205.251.251.216     46142       443          207.792693   \n",
      "290434  205.251.251.216     46142       443          207.792694   \n",
      "290435  205.251.251.216     46142       443          207.792695   \n",
      "290436  205.251.251.216     46142       443          207.792696   \n",
      "\n",
      "        time_since_previously_displayed_frame  port_class_dst  ...  min_p  \\\n",
      "0                                    0.000000               1  ...   12.0   \n",
      "1                                    0.002363               1  ...   12.0   \n",
      "2                                    0.000428               1  ...   12.0   \n",
      "3                                    0.001408               1  ...   12.0   \n",
      "4                                    0.007200               1  ...   20.0   \n",
      "...                                       ...             ...  ...    ...   \n",
      "290432                               0.000000               1  ...   32.0   \n",
      "290433                               0.000021               1  ...   32.0   \n",
      "290434                               0.000001               1  ...   32.0   \n",
      "290435                               0.000001               1  ...   32.0   \n",
      "290436                               0.000001               1  ...   32.0   \n",
      "\n",
      "        max_p  med_p  average_p      var_p  q3_p  q1_p  iqr_p  \\\n",
      "0        12.0   12.0       12.0   0.000000  12.0  12.0    0.0   \n",
      "1        12.0   12.0       12.0   0.000000  12.0  12.0    0.0   \n",
      "2        12.0   12.0       12.0   0.000000  12.0  12.0    0.0   \n",
      "3        12.0   12.0       12.0   0.000000  12.0  12.0    0.0   \n",
      "4        20.0   20.0       20.0   0.000000  20.0  20.0    0.0   \n",
      "...       ...    ...        ...        ...   ...   ...    ...   \n",
      "290432   40.0   40.0       39.6   3.200000  40.0  40.0    0.0   \n",
      "290433   40.0   40.0       39.2   6.063158  40.0  40.0    0.0   \n",
      "290434   40.0   40.0       38.8   8.589474  40.0  40.0    0.0   \n",
      "290435   40.0   40.0       38.4  10.778947  40.0  40.0    0.0   \n",
      "290436   40.0   40.0       38.0  12.631579  40.0  38.0    2.0   \n",
      "\n",
      "        l3_ip_dst_count             Label  \n",
      "0                   1.0  MITM-ArpSpoofing  \n",
      "1                   1.0  MITM-ArpSpoofing  \n",
      "2                   1.0  MITM-ArpSpoofing  \n",
      "3                   1.0  MITM-ArpSpoofing  \n",
      "4                   1.0  MITM-ArpSpoofing  \n",
      "...                 ...               ...  \n",
      "290432              8.0  MITM-ArpSpoofing  \n",
      "290433              8.0  MITM-ArpSpoofing  \n",
      "290434              8.0  MITM-ArpSpoofing  \n",
      "290435              8.0  MITM-ArpSpoofing  \n",
      "290436              8.0  MITM-ArpSpoofing  \n",
      "\n",
      "[290437 rows x 136 columns]\n"
     ]
    }
   ],
   "source": [
    "# Load CSV\n",
    "df = pd.read_csv('C:/Users/nazih/Downloads/cic_iot/Spoofing/MITM-ArpSpoofing.csv')\n",
    "\n",
    "# Add a label column (manually assign for small datasets)\n",
    "df['Label'] = 'MITM-ArpSpoofing'\n",
    "\n",
    "# Save updated CSV\n",
    "df.to_csv('labeled_dataset_MITM_ArpSpoofing.csv', index=False)\n",
    "print(df)"
   ]
  },
  {
   "cell_type": "code",
   "execution_count": 157,
   "metadata": {},
   "outputs": [
    {
     "name": "stderr",
     "output_type": "stream",
     "text": [
      "C:\\Users\\nazih\\AppData\\Local\\Temp\\ipykernel_15908\\1652544270.py:6: DtypeWarning: Columns (16) have mixed types. Specify dtype option on import or set low_memory=False.\n",
      "  'dns': pd.read_csv('labeled_dataset_DNS_Spoofing.csv'),\n",
      "C:\\Users\\nazih\\AppData\\Local\\Temp\\ipykernel_15908\\1652544270.py:7: DtypeWarning: Columns (16) have mixed types. Specify dtype option on import or set low_memory=False.\n",
      "  'mitm': pd.read_csv('labeled_dataset_MITM_ArpSpoofing.csv')\n"
     ]
    },
    {
     "name": "stdout",
     "output_type": "stream",
     "text": [
      "benign dataset shape: (297063, 136)\n",
      "   stream               src_mac            dst_mac           src_ip  \\\n",
      "0       0  Arlo Q Indoor Camera  3c:18:a0:41:c3:a0  192.168.137.175   \n",
      "1       0  Arlo Q Indoor Camera  3c:18:a0:41:c3:a0  192.168.137.175   \n",
      "2       0  Arlo Q Indoor Camera  3c:18:a0:41:c3:a0  192.168.137.175   \n",
      "3       0  Arlo Q Indoor Camera  3c:18:a0:41:c3:a0  192.168.137.175   \n",
      "4       0  Arlo Q Indoor Camera  3c:18:a0:41:c3:a0  192.168.137.175   \n",
      "\n",
      "         dst_ip  src_port  dst_port  inter_arrival_time  \\\n",
      "0  99.81.244.93     56891       443            0.000000   \n",
      "1  99.81.244.93     56891       443            0.000164   \n",
      "2  99.81.244.93     56891       443            0.000269   \n",
      "3  99.81.244.93     56891       443            0.000414   \n",
      "4  99.81.244.93     56891       443            0.001800   \n",
      "\n",
      "   time_since_previously_displayed_frame  port_class_dst  ...   min_p   max_p  \\\n",
      "0                               0.000000               1  ...  2908.0  2908.0   \n",
      "1                               0.000164               1  ...  2908.0  2908.0   \n",
      "2                               0.000105               1  ...  1460.0  2908.0   \n",
      "3                               0.000145               1  ...  1460.0  2908.0   \n",
      "4                               0.001386               1  ...  1460.0  2908.0   \n",
      "\n",
      "    med_p  average_p          var_p    q3_p    q1_p  iqr_p  l3_ip_dst_count  \\\n",
      "0  2908.0     2908.0       0.000000  2908.0  2908.0    0.0              1.0   \n",
      "1  2908.0     2908.0       0.000000  2908.0  2908.0    0.0              1.0   \n",
      "2  2908.0     2835.6  104835.200000  2908.0  2908.0    0.0              1.0   \n",
      "3  2908.0     2763.2  198635.115789  2908.0  2908.0    0.0              1.0   \n",
      "4  2908.0     2690.8  281399.747368  2908.0  2908.0    0.0              1.0   \n",
      "\n",
      "           Label  \n",
      "0  BenignTraffic  \n",
      "1  BenignTraffic  \n",
      "2  BenignTraffic  \n",
      "3  BenignTraffic  \n",
      "4  BenignTraffic  \n",
      "\n",
      "[5 rows x 136 columns]\n",
      "dns dataset shape: (296025, 136)\n",
      "   stream                  src_mac                  dst_mac          src_ip  \\\n",
      "0      -1  Netatmo Weather Station        ff:ff:ff:ff:ff:ff             NaN   \n",
      "1      -1              Wyze Camera        ff:ff:ff:ff:ff:ff             NaN   \n",
      "2      -1              Wyze Camera        e8:1b:69:f8:d4:e3  192.168.137.49   \n",
      "3      -1              Wyze Camera        ff:ff:ff:ff:ff:ff             NaN   \n",
      "4      -1        3c:18:a0:41:c3:a0  Netatmo Weather Station             NaN   \n",
      "\n",
      "            dst_ip  src_port  dst_port  inter_arrival_time  \\\n",
      "0              NaN         0         0            0.000000   \n",
      "1              NaN         0         0            0.082751   \n",
      "2  192.168.137.126         0         0            0.101622   \n",
      "3              NaN         0         0            0.105523   \n",
      "4              NaN         0         0            0.116887   \n",
      "\n",
      "   time_since_previously_displayed_frame  port_class_dst  ...  min_p  max_p  \\\n",
      "0                               0.000000               1  ...    0.0    0.0   \n",
      "1                               0.082751               1  ...    0.0    0.0   \n",
      "2                               0.018871               0  ...    0.0    0.0   \n",
      "3                               0.003901               0  ...    0.0    0.0   \n",
      "4                               0.011364               0  ...    0.0    0.0   \n",
      "\n",
      "   med_p  average_p  var_p  q3_p q1_p  iqr_p  l3_ip_dst_count         Label  \n",
      "0    0.0        0.0    0.0   0.0  0.0    0.0              1.0  DNS_Spoofing  \n",
      "1    0.0        0.0    0.0   0.0  0.0    0.0              1.0  DNS_Spoofing  \n",
      "2    0.0        0.0    0.0   0.0  0.0    0.0              1.0  DNS_Spoofing  \n",
      "3    0.0        0.0    0.0   0.0  0.0    0.0              1.0  DNS_Spoofing  \n",
      "4    0.0        0.0    0.0   0.0  0.0    0.0              2.0  DNS_Spoofing  \n",
      "\n",
      "[5 rows x 136 columns]\n",
      "mitm dataset shape: (290437, 136)\n",
      "   stream         src_mac            dst_mac          src_ip         dst_ip  \\\n",
      "0       0     Wyze Camera  3c:18:a0:41:c3:a0  192.168.137.11    35.86.13.17   \n",
      "1       0     Wyze Camera  3c:18:a0:41:c3:a0  192.168.137.11    35.86.13.17   \n",
      "2       0     Wyze Camera  3c:18:a0:41:c3:a0  192.168.137.11    35.86.13.17   \n",
      "3       0     Wyze Camera  3c:18:a0:41:c3:a0  192.168.137.11    35.86.13.17   \n",
      "4       1  Netatmo Camera  3c:18:a0:41:c3:a0  192.168.137.48  51.145.143.28   \n",
      "\n",
      "   src_port  dst_port  inter_arrival_time  \\\n",
      "0     39807       443            0.000000   \n",
      "1     39807       443            0.002363   \n",
      "2     39807       443            0.002791   \n",
      "3     39807       443            0.004199   \n",
      "4     56343       443            0.011399   \n",
      "\n",
      "   time_since_previously_displayed_frame  port_class_dst  ...  min_p  max_p  \\\n",
      "0                               0.000000               1  ...   12.0   12.0   \n",
      "1                               0.002363               1  ...   12.0   12.0   \n",
      "2                               0.000428               1  ...   12.0   12.0   \n",
      "3                               0.001408               1  ...   12.0   12.0   \n",
      "4                               0.007200               1  ...   20.0   20.0   \n",
      "\n",
      "   med_p  average_p  var_p  q3_p  q1_p  iqr_p  l3_ip_dst_count  \\\n",
      "0   12.0       12.0    0.0  12.0  12.0    0.0              1.0   \n",
      "1   12.0       12.0    0.0  12.0  12.0    0.0              1.0   \n",
      "2   12.0       12.0    0.0  12.0  12.0    0.0              1.0   \n",
      "3   12.0       12.0    0.0  12.0  12.0    0.0              1.0   \n",
      "4   20.0       20.0    0.0  20.0  20.0    0.0              1.0   \n",
      "\n",
      "              Label  \n",
      "0  MITM-ArpSpoofing  \n",
      "1  MITM-ArpSpoofing  \n",
      "2  MITM-ArpSpoofing  \n",
      "3  MITM-ArpSpoofing  \n",
      "4  MITM-ArpSpoofing  \n",
      "\n",
      "[5 rows x 136 columns]\n"
     ]
    }
   ],
   "source": [
    "import pandas as pd\n",
    "\n",
    "# Load datasets into a dictionary\n",
    "datasets = {\n",
    "    'benign': pd.read_csv('labeled_dataset_benign.csv'),\n",
    "    'dns': pd.read_csv('labeled_dataset_DNS_Spoofing.csv'),\n",
    "    'mitm': pd.read_csv('labeled_dataset_MITM_ArpSpoofing.csv')\n",
    "}\n",
    "\n",
    "# Verify loaded data\n",
    "for name, df in datasets.items():\n",
    "    print(f\"{name} dataset shape: {df.shape}\")\n",
    "    print(df.head(5))"
   ]
  },
  {
   "cell_type": "code",
   "execution_count": 158,
   "metadata": {},
   "outputs": [
    {
     "name": "stderr",
     "output_type": "stream",
     "text": [
      "C:\\Users\\nazih\\AppData\\Local\\Temp\\ipykernel_15908\\2679432569.py:6: DtypeWarning: Columns (16) have mixed types. Specify dtype option on import or set low_memory=False.\n",
      "  'dns': pd.read_csv('labeled_dataset_DNS_Spoofing.csv'),\n",
      "C:\\Users\\nazih\\AppData\\Local\\Temp\\ipykernel_15908\\2679432569.py:7: DtypeWarning: Columns (16) have mixed types. Specify dtype option on import or set low_memory=False.\n",
      "  'mitm': pd.read_csv('labeled_dataset_MITM_ArpSpoofing.csv')\n"
     ]
    },
    {
     "name": "stdout",
     "output_type": "stream",
     "text": [
      "(883525, 135)\n"
     ]
    }
   ],
   "source": [
    "import pandas as pd\n",
    "\n",
    "# Load and combine datasets (as before)\n",
    "datasets = {\n",
    "    'benign': pd.read_csv('labeled_dataset_benign.csv'),\n",
    "    'dns': pd.read_csv('labeled_dataset_DNS_Spoofing.csv'),\n",
    "    'mitm': pd.read_csv('labeled_dataset_MITM_ArpSpoofing.csv')\n",
    "}\n",
    "combined_df = pd.concat([datasets['benign'], datasets['dns'], datasets['mitm']], ignore_index=True)\n",
    "combined_df = combined_df.drop('dst_mac', axis=1)\n",
    "\n",
    "print(combined_df.shape)\n"
   ]
  },
  {
   "cell_type": "code",
   "execution_count": 159,
   "id": "2cedaa89",
   "metadata": {},
   "outputs": [],
   "source": [
    "import re\n",
    "\n",
    "def is_hex_mac(mac):\n",
    "    if pd.isna(mac) or mac == 'unknown':  # Skip NaN or filled values\n",
    "        return False\n",
    "    pattern = r'^([0-9A-Fa-f]{2}[:-]){5}([0-9A-Fa-f]{2})$'\n",
    "    return bool(re.match(pattern, str(mac)))"
   ]
  },
  {
   "cell_type": "code",
   "execution_count": 160,
   "id": "4d483fb2",
   "metadata": {},
   "outputs": [],
   "source": [
    "# Remove rows where src_mac is a hex MAC address\n",
    "combined_df = combined_df[~combined_df['src_mac'].apply(is_hex_mac)]"
   ]
  },
  {
   "cell_type": "code",
   "execution_count": 161,
   "id": "b6459ba8",
   "metadata": {},
   "outputs": [
    {
     "name": "stdout",
     "output_type": "stream",
     "text": [
      "stream                 0\n",
      "src_mac                0\n",
      "src_ip             20034\n",
      "dst_ip             20034\n",
      "src_port               0\n",
      "                   ...  \n",
      "q3_p                   0\n",
      "q1_p                   0\n",
      "iqr_p                  0\n",
      "l3_ip_dst_count        0\n",
      "Label                  0\n",
      "Length: 135, dtype: int64\n",
      "New shape before dropping missing values: (432555, 135)\n",
      "New shape after dropping missing values: (307, 135)\n",
      "Remaining missing values: 0\n"
     ]
    }
   ],
   "source": [
    "print(combined_df.isnull().sum())\n",
    "print(f\"New shape before dropping missing values: {combined_df.shape}\")\n",
    "\n",
    "df = combined_df.dropna()\n",
    "print(f\"New shape after dropping missing values: {df.shape}\")\n",
    "print(f\"Remaining missing values: {df.isnull().sum().sum()}\")\n"
   ]
  },
  {
   "cell_type": "code",
   "execution_count": 162,
   "id": "47d688c6",
   "metadata": {},
   "outputs": [
    {
     "name": "stdout",
     "output_type": "stream",
     "text": [
      "Number of duplicate rows: 0\n",
      "New shape after removing duplicates: (307, 135)\n"
     ]
    }
   ],
   "source": [
    "print(f\"Number of duplicate rows: {df.duplicated().sum()}\")\n",
    "df = df.drop_duplicates()\n",
    "print(f\"New shape after removing duplicates: {df.shape}\")"
   ]
  },
  {
   "cell_type": "code",
   "execution_count": 163,
   "id": "6ac71b43",
   "metadata": {},
   "outputs": [],
   "source": [
    "# Features (X) and targets\n",
    "X = df.drop(['Label', 'src_mac'], axis=1, errors='ignore')  \n",
    "y_attack = df['Label']  # For attack detection\n",
    "y_device = df['src_mac']  # For device identification\n",
    "\n"
   ]
  },
  {
   "cell_type": "code",
   "execution_count": 164,
   "id": "0edfa53b",
   "metadata": {},
   "outputs": [
    {
     "name": "stdout",
     "output_type": "stream",
     "text": [
      "['Teckin Plug 2' 'AeoTec Smart Home Hub' 'Home Eye Camera'\n",
      " 'harman kardon (Ampak Technology)' 'SmartThings Hub'\n",
      " 'Google Nest Mini Speaker' 'Borun/Sichuan-AI Camera' 'Philips Hue Bridge'\n",
      " 'Eufy HomeBase 2' 'Amazon Echo Studio' 'Amazon Echo Show'\n",
      " 'TP-Link Tapo Camera' 'Teckin Plug 1' 'Yi Indoor 2 Camera' 'Wyze Camera'\n",
      " 'Amazon Echo Spot' 'Yi Indoor Camera' 'Amazon Echo Dot 1'\n",
      " 'Arlo Base Station' 'Levoit Air Purifier' 'Yi Outdoor Camera'\n",
      " 'Rbcior Camera']\n"
     ]
    }
   ],
   "source": [
    "print(y_device.unique())"
   ]
  },
  {
   "cell_type": "code",
   "execution_count": 165,
   "id": "18336fb4",
   "metadata": {},
   "outputs": [
    {
     "name": "stdout",
     "output_type": "stream",
     "text": [
      "Label\n",
      "DNS_Spoofing        303\n",
      "BenignTraffic         3\n",
      "MITM-ArpSpoofing      1\n",
      "Name: count, dtype: int64\n"
     ]
    }
   ],
   "source": [
    "print(y_attack.value_counts())"
   ]
  },
  {
   "cell_type": "code",
   "execution_count": 166,
   "id": "75d616ab",
   "metadata": {},
   "outputs": [
    {
     "name": "stdout",
     "output_type": "stream",
     "text": [
      "stream               int64\n",
      "src_ip              object\n",
      "dst_ip              object\n",
      "src_port             int64\n",
      "dst_port             int64\n",
      "                    ...   \n",
      "var_p              float64\n",
      "q3_p               float64\n",
      "q1_p               float64\n",
      "iqr_p              float64\n",
      "l3_ip_dst_count    float64\n",
      "Length: 133, dtype: object\n"
     ]
    }
   ],
   "source": [
    "\n",
    "\n",
    "print(X.dtypes)"
   ]
  },
  {
   "cell_type": "code",
   "execution_count": 167,
   "id": "340c962f",
   "metadata": {},
   "outputs": [
    {
     "name": "stdout",
     "output_type": "stream",
     "text": [
      "Categorical features: ['src_ip', 'dst_ip', 'dst_port', 'port_class_dst', 'l4_tcp', 'l4_udp', 'ttl', 'tcp_window_size', 'handshake_version', 'handshake_cipher_suites_length', 'handshake_ciphersuites', 'handshake_extensions_length', 'tls_server', 'handshake_sig_hash_alg_len', 'http_request_method', 'http_host', 'http_response_code', 'user_agent', 'dns_server', 'dns_query_type', 'dns_len_ans', 'device_mac', 'eth_src_oui', 'eth_dst_oui', 'highest_layer', 'http_uri', 'http_content_len', 'http_content_type', 'icmp_type', 'icmp_checksum_status', 'icmp_data_size', 'stream_1_count', 'stream_5_count', 'stream_10_count', 'stream_30_count', 'ntp_interval']\n"
     ]
    }
   ],
   "source": [
    "categorical_cols = [col for col in X.columns if X[col].nunique() < 10 or X[col].dtype == 'object']\n",
    "print(f\"Categorical features: {categorical_cols}\")"
   ]
  },
  {
   "cell_type": "code",
   "execution_count": 168,
   "id": "dc5a8404",
   "metadata": {},
   "outputs": [],
   "source": [
    "for col in categorical_cols:\n",
    "    X[col] = X[col].astype(str).fillna('unknown')\n",
    "\n",
    "#Fill numerical columns with median (or mean)\n",
    "numerical_cols = df.select_dtypes(include=['int64', 'float64']).columns\n",
    "for col in numerical_cols:\n",
    "    df[col] = df[col].fillna(df[col].median())\n",
    "\n"
   ]
  },
  {
   "cell_type": "code",
   "execution_count": 169,
   "id": "1795d6fe",
   "metadata": {},
   "outputs": [],
   "source": [
    "from sklearn.preprocessing import LabelEncoder\n",
    "\n",
    "# Identify categorical columns\n",
    "categorical_cols = [col for col in X.columns if X[col].nunique() < 10 or X[col].dtype == 'object']\n",
    "le = LabelEncoder()\n",
    "\n",
    "for col in categorical_cols:\n",
    "    X[col] = le.fit_transform(X[col].astype(str).fillna('unknown'))\n",
    "\n"
   ]
  },
  {
   "cell_type": "code",
   "execution_count": 170,
   "id": "400b8800",
   "metadata": {},
   "outputs": [
    {
     "name": "stdout",
     "output_type": "stream",
     "text": [
      "stream               int64\n",
      "src_ip               int32\n",
      "dst_ip               int32\n",
      "src_port             int64\n",
      "dst_port             int32\n",
      "                    ...   \n",
      "var_p              float64\n",
      "q3_p               float64\n",
      "q1_p               float64\n",
      "iqr_p              float64\n",
      "l3_ip_dst_count    float64\n",
      "Length: 133, dtype: object\n"
     ]
    }
   ],
   "source": [
    "print(X.dtypes)"
   ]
  },
  {
   "cell_type": "code",
   "execution_count": 171,
   "id": "c792b2bb",
   "metadata": {},
   "outputs": [
    {
     "name": "stdout",
     "output_type": "stream",
     "text": [
      "Encoding completed successfully.\n",
      "Updated X columns: ['stream', 'src_ip', 'dst_ip', 'src_port', 'dst_port', 'inter_arrival_time', 'time_since_previously_displayed_frame', 'port_class_dst', 'l4_tcp', 'l4_udp', 'ttl', 'eth_size', 'tcp_window_size', 'payload_entropy', 'handshake_version', 'handshake_cipher_suites_length', 'handshake_ciphersuites', 'handshake_extensions_length', 'tls_server', 'handshake_sig_hash_alg_len', 'http_request_method', 'http_host', 'http_response_code', 'user_agent', 'dns_server', 'dns_query_type', 'dns_len_qry', 'dns_interval', 'dns_len_ans', 'device_mac', 'eth_src_oui', 'eth_dst_oui', 'payload_length', 'highest_layer', 'http_uri', 'http_content_len', 'http_content_type', 'icmp_type', 'icmp_checksum_status', 'icmp_data_size', 'jitter', 'stream_1_count', 'stream_1_mean', 'stream_1_var', 'src_ip_1_count', 'src_ip_1_mean', 'src_ip_1_var', 'src_ip_mac_1_count', 'src_ip_mac_1_mean', 'src_ip_mac_1_var', 'channel_1_count', 'channel_1_mean', 'channel_1_var', 'stream_jitter_1_sum', 'stream_jitter_1_mean', 'stream_jitter_1_var', 'stream_5_count', 'stream_5_mean', 'stream_5_var', 'src_ip_5_count', 'src_ip_5_mean', 'src_ip_5_var', 'src_ip_mac_5_count', 'src_ip_mac_5_mean', 'src_ip_mac_5_var', 'channel_5_count', 'channel_5_mean', 'channel_5_var', 'stream_jitter_5_sum', 'stream_jitter_5_mean', 'stream_jitter_5_var', 'stream_10_count', 'stream_10_mean', 'stream_10_var', 'src_ip_10_count', 'src_ip_10_mean', 'src_ip_10_var', 'src_ip_mac_10_count', 'src_ip_mac_10_mean', 'src_ip_mac_10_var', 'channel_10_count', 'channel_10_mean', 'channel_10_var', 'stream_jitter_10_sum', 'stream_jitter_10_mean', 'stream_jitter_10_var', 'stream_30_count', 'stream_30_mean', 'stream_30_var', 'src_ip_30_count', 'src_ip_30_mean', 'src_ip_30_var', 'src_ip_mac_30_count', 'src_ip_mac_30_mean', 'src_ip_mac_30_var', 'channel_30_count', 'channel_30_mean', 'channel_30_var', 'stream_jitter_30_sum', 'stream_jitter_30_mean', 'stream_jitter_30_var', 'stream_60_count', 'stream_60_mean', 'stream_60_var', 'src_ip_60_count', 'src_ip_60_mean', 'src_ip_60_var', 'src_ip_mac_60_count', 'src_ip_mac_60_mean', 'src_ip_mac_60_var', 'channel_60_count', 'channel_60_mean', 'channel_60_var', 'stream_jitter_60_sum', 'stream_jitter_60_mean', 'stream_jitter_60_var', 'ntp_interval', 'most_freq_spot', 'min_et', 'q1', 'min_e', 'var_e', 'q1_e', 'sum_p', 'min_p', 'max_p', 'med_p', 'average_p', 'var_p', 'q3_p', 'q1_p', 'iqr_p', 'l3_ip_dst_count']\n"
     ]
    }
   ],
   "source": [
    "\n",
    "\n",
    "le_device = LabelEncoder()\n",
    "y_device_encoded = le_device.fit_transform(y_device)\n",
    "print(\"Encoding completed successfully.\")\n",
    "print(f\"Updated X columns: {X.columns.tolist()}\")"
   ]
  },
  {
   "cell_type": "code",
   "execution_count": 172,
   "id": "bd804bb8",
   "metadata": {},
   "outputs": [
    {
     "ename": "ValueError",
     "evalue": "The least populated class in y has only 1 member, which is too few. The minimum number of groups for any class cannot be less than 2.",
     "output_type": "error",
     "traceback": [
      "\u001b[1;31m---------------------------------------------------------------------------\u001b[0m",
      "\u001b[1;31mValueError\u001b[0m                                Traceback (most recent call last)",
      "Cell \u001b[1;32mIn[172], line 4\u001b[0m\n\u001b[0;32m      1\u001b[0m \u001b[38;5;28;01mfrom\u001b[39;00m \u001b[38;5;21;01msklearn\u001b[39;00m\u001b[38;5;21;01m.\u001b[39;00m\u001b[38;5;21;01mmodel_selection\u001b[39;00m \u001b[38;5;28;01mimport\u001b[39;00m train_test_split\n\u001b[0;32m      3\u001b[0m \u001b[38;5;66;03m# Split for attack detection\u001b[39;00m\n\u001b[1;32m----> 4\u001b[0m X_train_attack, X_test_attack, y_train_attack, y_test_attack \u001b[38;5;241m=\u001b[39m \u001b[43mtrain_test_split\u001b[49m\u001b[43m(\u001b[49m\n\u001b[0;32m      5\u001b[0m \u001b[43m    \u001b[49m\u001b[43mX\u001b[49m\u001b[43m,\u001b[49m\u001b[43m \u001b[49m\u001b[43my_attack\u001b[49m\u001b[43m,\u001b[49m\u001b[43m \u001b[49m\u001b[43mtest_size\u001b[49m\u001b[38;5;241;43m=\u001b[39;49m\u001b[38;5;241;43m0.2\u001b[39;49m\u001b[43m,\u001b[49m\u001b[43m \u001b[49m\u001b[43mrandom_state\u001b[49m\u001b[38;5;241;43m=\u001b[39;49m\u001b[38;5;241;43m42\u001b[39;49m\u001b[43m,\u001b[49m\u001b[43m \u001b[49m\u001b[43mstratify\u001b[49m\u001b[38;5;241;43m=\u001b[39;49m\u001b[43my_attack\u001b[49m\n\u001b[0;32m      6\u001b[0m \u001b[43m)\u001b[49m\n\u001b[0;32m      8\u001b[0m \u001b[38;5;66;03m# Split for device identification\u001b[39;00m\n\u001b[0;32m      9\u001b[0m X_train_device, X_test_device, y_train_device, y_test_device \u001b[38;5;241m=\u001b[39m train_test_split(\n\u001b[0;32m     10\u001b[0m     X, y_device_encoded, test_size\u001b[38;5;241m=\u001b[39m\u001b[38;5;241m0.2\u001b[39m, random_state\u001b[38;5;241m=\u001b[39m\u001b[38;5;241m42\u001b[39m, stratify\u001b[38;5;241m=\u001b[39my_device_encoded\n\u001b[0;32m     11\u001b[0m )\n",
      "File \u001b[1;32mc:\\Python\\Python311\\Lib\\site-packages\\sklearn\\utils\\_param_validation.py:216\u001b[0m, in \u001b[0;36mvalidate_params.<locals>.decorator.<locals>.wrapper\u001b[1;34m(*args, **kwargs)\u001b[0m\n\u001b[0;32m    210\u001b[0m \u001b[38;5;28;01mtry\u001b[39;00m:\n\u001b[0;32m    211\u001b[0m     \u001b[38;5;28;01mwith\u001b[39;00m config_context(\n\u001b[0;32m    212\u001b[0m         skip_parameter_validation\u001b[38;5;241m=\u001b[39m(\n\u001b[0;32m    213\u001b[0m             prefer_skip_nested_validation \u001b[38;5;129;01mor\u001b[39;00m global_skip_validation\n\u001b[0;32m    214\u001b[0m         )\n\u001b[0;32m    215\u001b[0m     ):\n\u001b[1;32m--> 216\u001b[0m         \u001b[38;5;28;01mreturn\u001b[39;00m \u001b[43mfunc\u001b[49m\u001b[43m(\u001b[49m\u001b[38;5;241;43m*\u001b[39;49m\u001b[43margs\u001b[49m\u001b[43m,\u001b[49m\u001b[43m \u001b[49m\u001b[38;5;241;43m*\u001b[39;49m\u001b[38;5;241;43m*\u001b[39;49m\u001b[43mkwargs\u001b[49m\u001b[43m)\u001b[49m\n\u001b[0;32m    217\u001b[0m \u001b[38;5;28;01mexcept\u001b[39;00m InvalidParameterError \u001b[38;5;28;01mas\u001b[39;00m e:\n\u001b[0;32m    218\u001b[0m     \u001b[38;5;66;03m# When the function is just a wrapper around an estimator, we allow\u001b[39;00m\n\u001b[0;32m    219\u001b[0m     \u001b[38;5;66;03m# the function to delegate validation to the estimator, but we replace\u001b[39;00m\n\u001b[0;32m    220\u001b[0m     \u001b[38;5;66;03m# the name of the estimator by the name of the function in the error\u001b[39;00m\n\u001b[0;32m    221\u001b[0m     \u001b[38;5;66;03m# message to avoid confusion.\u001b[39;00m\n\u001b[0;32m    222\u001b[0m     msg \u001b[38;5;241m=\u001b[39m re\u001b[38;5;241m.\u001b[39msub(\n\u001b[0;32m    223\u001b[0m         \u001b[38;5;124mr\u001b[39m\u001b[38;5;124m\"\u001b[39m\u001b[38;5;124mparameter of \u001b[39m\u001b[38;5;124m\\\u001b[39m\u001b[38;5;124mw+ must be\u001b[39m\u001b[38;5;124m\"\u001b[39m,\n\u001b[0;32m    224\u001b[0m         \u001b[38;5;124mf\u001b[39m\u001b[38;5;124m\"\u001b[39m\u001b[38;5;124mparameter of \u001b[39m\u001b[38;5;132;01m{\u001b[39;00mfunc\u001b[38;5;241m.\u001b[39m\u001b[38;5;18m__qualname__\u001b[39m\u001b[38;5;132;01m}\u001b[39;00m\u001b[38;5;124m must be\u001b[39m\u001b[38;5;124m\"\u001b[39m,\n\u001b[0;32m    225\u001b[0m         \u001b[38;5;28mstr\u001b[39m(e),\n\u001b[0;32m    226\u001b[0m     )\n",
      "File \u001b[1;32mc:\\Python\\Python311\\Lib\\site-packages\\sklearn\\model_selection\\_split.py:2872\u001b[0m, in \u001b[0;36mtrain_test_split\u001b[1;34m(test_size, train_size, random_state, shuffle, stratify, *arrays)\u001b[0m\n\u001b[0;32m   2868\u001b[0m         CVClass \u001b[38;5;241m=\u001b[39m ShuffleSplit\n\u001b[0;32m   2870\u001b[0m     cv \u001b[38;5;241m=\u001b[39m CVClass(test_size\u001b[38;5;241m=\u001b[39mn_test, train_size\u001b[38;5;241m=\u001b[39mn_train, random_state\u001b[38;5;241m=\u001b[39mrandom_state)\n\u001b[1;32m-> 2872\u001b[0m     train, test \u001b[38;5;241m=\u001b[39m \u001b[38;5;28mnext\u001b[39m(cv\u001b[38;5;241m.\u001b[39msplit(X\u001b[38;5;241m=\u001b[39marrays[\u001b[38;5;241m0\u001b[39m], y\u001b[38;5;241m=\u001b[39mstratify))\n\u001b[0;32m   2874\u001b[0m train, test \u001b[38;5;241m=\u001b[39m ensure_common_namespace_device(arrays[\u001b[38;5;241m0\u001b[39m], train, test)\n\u001b[0;32m   2876\u001b[0m \u001b[38;5;28;01mreturn\u001b[39;00m \u001b[38;5;28mlist\u001b[39m(\n\u001b[0;32m   2877\u001b[0m     chain\u001b[38;5;241m.\u001b[39mfrom_iterable(\n\u001b[0;32m   2878\u001b[0m         (_safe_indexing(a, train), _safe_indexing(a, test)) \u001b[38;5;28;01mfor\u001b[39;00m a \u001b[38;5;129;01min\u001b[39;00m arrays\n\u001b[0;32m   2879\u001b[0m     )\n\u001b[0;32m   2880\u001b[0m )\n",
      "File \u001b[1;32mc:\\Python\\Python311\\Lib\\site-packages\\sklearn\\model_selection\\_split.py:1909\u001b[0m, in \u001b[0;36mBaseShuffleSplit.split\u001b[1;34m(self, X, y, groups)\u001b[0m\n\u001b[0;32m   1879\u001b[0m \u001b[38;5;250m\u001b[39m\u001b[38;5;124;03m\"\"\"Generate indices to split data into training and test set.\u001b[39;00m\n\u001b[0;32m   1880\u001b[0m \n\u001b[0;32m   1881\u001b[0m \u001b[38;5;124;03mParameters\u001b[39;00m\n\u001b[1;32m   (...)\u001b[0m\n\u001b[0;32m   1906\u001b[0m \u001b[38;5;124;03mto an integer.\u001b[39;00m\n\u001b[0;32m   1907\u001b[0m \u001b[38;5;124;03m\"\"\"\u001b[39;00m\n\u001b[0;32m   1908\u001b[0m X, y, groups \u001b[38;5;241m=\u001b[39m indexable(X, y, groups)\n\u001b[1;32m-> 1909\u001b[0m \u001b[38;5;28;01mfor\u001b[39;00m train, test \u001b[38;5;129;01min\u001b[39;00m \u001b[38;5;28mself\u001b[39m\u001b[38;5;241m.\u001b[39m_iter_indices(X, y, groups):\n\u001b[0;32m   1910\u001b[0m     \u001b[38;5;28;01myield\u001b[39;00m train, test\n",
      "File \u001b[1;32mc:\\Python\\Python311\\Lib\\site-packages\\sklearn\\model_selection\\_split.py:2318\u001b[0m, in \u001b[0;36mStratifiedShuffleSplit._iter_indices\u001b[1;34m(self, X, y, groups)\u001b[0m\n\u001b[0;32m   2316\u001b[0m class_counts \u001b[38;5;241m=\u001b[39m np\u001b[38;5;241m.\u001b[39mbincount(y_indices)\n\u001b[0;32m   2317\u001b[0m \u001b[38;5;28;01mif\u001b[39;00m np\u001b[38;5;241m.\u001b[39mmin(class_counts) \u001b[38;5;241m<\u001b[39m \u001b[38;5;241m2\u001b[39m:\n\u001b[1;32m-> 2318\u001b[0m     \u001b[38;5;28;01mraise\u001b[39;00m \u001b[38;5;167;01mValueError\u001b[39;00m(\n\u001b[0;32m   2319\u001b[0m         \u001b[38;5;124m\"\u001b[39m\u001b[38;5;124mThe least populated class in y has only 1\u001b[39m\u001b[38;5;124m\"\u001b[39m\n\u001b[0;32m   2320\u001b[0m         \u001b[38;5;124m\"\u001b[39m\u001b[38;5;124m member, which is too few. The minimum\u001b[39m\u001b[38;5;124m\"\u001b[39m\n\u001b[0;32m   2321\u001b[0m         \u001b[38;5;124m\"\u001b[39m\u001b[38;5;124m number of groups for any class cannot\u001b[39m\u001b[38;5;124m\"\u001b[39m\n\u001b[0;32m   2322\u001b[0m         \u001b[38;5;124m\"\u001b[39m\u001b[38;5;124m be less than 2.\u001b[39m\u001b[38;5;124m\"\u001b[39m\n\u001b[0;32m   2323\u001b[0m     )\n\u001b[0;32m   2325\u001b[0m \u001b[38;5;28;01mif\u001b[39;00m n_train \u001b[38;5;241m<\u001b[39m n_classes:\n\u001b[0;32m   2326\u001b[0m     \u001b[38;5;28;01mraise\u001b[39;00m \u001b[38;5;167;01mValueError\u001b[39;00m(\n\u001b[0;32m   2327\u001b[0m         \u001b[38;5;124m\"\u001b[39m\u001b[38;5;124mThe train_size = \u001b[39m\u001b[38;5;132;01m%d\u001b[39;00m\u001b[38;5;124m should be greater or \u001b[39m\u001b[38;5;124m\"\u001b[39m\n\u001b[0;32m   2328\u001b[0m         \u001b[38;5;124m\"\u001b[39m\u001b[38;5;124mequal to the number of classes = \u001b[39m\u001b[38;5;132;01m%d\u001b[39;00m\u001b[38;5;124m\"\u001b[39m \u001b[38;5;241m%\u001b[39m (n_train, n_classes)\n\u001b[0;32m   2329\u001b[0m     )\n",
      "\u001b[1;31mValueError\u001b[0m: The least populated class in y has only 1 member, which is too few. The minimum number of groups for any class cannot be less than 2."
     ]
    }
   ],
   "source": [
    "from sklearn.model_selection import train_test_split\n",
    "\n",
    "# Split for attack detection\n",
    "X_train_attack, X_test_attack, y_train_attack, y_test_attack = train_test_split(\n",
    "    X, y_attack, test_size=0.2, random_state=42, stratify=y_attack\n",
    ")\n",
    "\n",
    "# Split for device identification\n",
    "X_train_device, X_test_device, y_train_device, y_test_device = train_test_split(\n",
    "    X, y_device_encoded, test_size=0.2, random_state=42, stratify=y_device_encoded\n",
    ")"
   ]
  },
  {
   "cell_type": "code",
   "execution_count": null,
   "id": "81252c6e",
   "metadata": {},
   "outputs": [],
   "source": [
    "from sklearn.ensemble import RandomForestClassifier\n",
    "from xgboost import XGBClassifier\n",
    "from sklearn.metrics import accuracy_score, classification_report\n",
    "import joblib"
   ]
  },
  {
   "cell_type": "code",
   "execution_count": null,
   "id": "97ecfed0",
   "metadata": {},
   "outputs": [
    {
     "ename": "KeyboardInterrupt",
     "evalue": "",
     "output_type": "error",
     "traceback": [
      "\u001b[1;31m---------------------------------------------------------------------------\u001b[0m",
      "\u001b[1;31mKeyboardInterrupt\u001b[0m                         Traceback (most recent call last)",
      "Cell \u001b[1;32mIn[148], line 3\u001b[0m\n\u001b[0;32m      1\u001b[0m \u001b[38;5;66;03m# Train attack detection model\u001b[39;00m\n\u001b[0;32m      2\u001b[0m rf_model_attack \u001b[38;5;241m=\u001b[39m RandomForestClassifier(n_estimators\u001b[38;5;241m=\u001b[39m\u001b[38;5;241m100\u001b[39m, random_state\u001b[38;5;241m=\u001b[39m\u001b[38;5;241m42\u001b[39m, n_jobs\u001b[38;5;241m=\u001b[39m\u001b[38;5;241m-\u001b[39m\u001b[38;5;241m1\u001b[39m, class_weight\u001b[38;5;241m=\u001b[39m\u001b[38;5;124m'\u001b[39m\u001b[38;5;124mbalanced\u001b[39m\u001b[38;5;124m'\u001b[39m)\n\u001b[1;32m----> 3\u001b[0m \u001b[43mrf_model_attack\u001b[49m\u001b[38;5;241;43m.\u001b[39;49m\u001b[43mfit\u001b[49m\u001b[43m(\u001b[49m\u001b[43mX_train_attack\u001b[49m\u001b[43m,\u001b[49m\u001b[43m \u001b[49m\u001b[43my_train_attack\u001b[49m\u001b[43m)\u001b[49m\n\u001b[0;32m      5\u001b[0m \u001b[38;5;66;03m# Train device identification model\u001b[39;00m\n\u001b[0;32m      6\u001b[0m rf_model_device \u001b[38;5;241m=\u001b[39m RandomForestClassifier(n_estimators\u001b[38;5;241m=\u001b[39m\u001b[38;5;241m100\u001b[39m, random_state\u001b[38;5;241m=\u001b[39m\u001b[38;5;241m42\u001b[39m, n_jobs\u001b[38;5;241m=\u001b[39m\u001b[38;5;241m-\u001b[39m\u001b[38;5;241m1\u001b[39m, class_weight\u001b[38;5;241m=\u001b[39m\u001b[38;5;124m'\u001b[39m\u001b[38;5;124mbalanced\u001b[39m\u001b[38;5;124m'\u001b[39m)\n",
      "File \u001b[1;32mc:\\Python\\Python311\\Lib\\site-packages\\sklearn\\base.py:1389\u001b[0m, in \u001b[0;36m_fit_context.<locals>.decorator.<locals>.wrapper\u001b[1;34m(estimator, *args, **kwargs)\u001b[0m\n\u001b[0;32m   1382\u001b[0m     estimator\u001b[38;5;241m.\u001b[39m_validate_params()\n\u001b[0;32m   1384\u001b[0m \u001b[38;5;28;01mwith\u001b[39;00m config_context(\n\u001b[0;32m   1385\u001b[0m     skip_parameter_validation\u001b[38;5;241m=\u001b[39m(\n\u001b[0;32m   1386\u001b[0m         prefer_skip_nested_validation \u001b[38;5;129;01mor\u001b[39;00m global_skip_validation\n\u001b[0;32m   1387\u001b[0m     )\n\u001b[0;32m   1388\u001b[0m ):\n\u001b[1;32m-> 1389\u001b[0m     \u001b[38;5;28;01mreturn\u001b[39;00m \u001b[43mfit_method\u001b[49m\u001b[43m(\u001b[49m\u001b[43mestimator\u001b[49m\u001b[43m,\u001b[49m\u001b[43m \u001b[49m\u001b[38;5;241;43m*\u001b[39;49m\u001b[43margs\u001b[49m\u001b[43m,\u001b[49m\u001b[43m \u001b[49m\u001b[38;5;241;43m*\u001b[39;49m\u001b[38;5;241;43m*\u001b[39;49m\u001b[43mkwargs\u001b[49m\u001b[43m)\u001b[49m\n",
      "File \u001b[1;32mc:\\Python\\Python311\\Lib\\site-packages\\sklearn\\ensemble\\_forest.py:487\u001b[0m, in \u001b[0;36mBaseForest.fit\u001b[1;34m(self, X, y, sample_weight)\u001b[0m\n\u001b[0;32m    476\u001b[0m trees \u001b[38;5;241m=\u001b[39m [\n\u001b[0;32m    477\u001b[0m     \u001b[38;5;28mself\u001b[39m\u001b[38;5;241m.\u001b[39m_make_estimator(append\u001b[38;5;241m=\u001b[39m\u001b[38;5;28;01mFalse\u001b[39;00m, random_state\u001b[38;5;241m=\u001b[39mrandom_state)\n\u001b[0;32m    478\u001b[0m     \u001b[38;5;28;01mfor\u001b[39;00m i \u001b[38;5;129;01min\u001b[39;00m \u001b[38;5;28mrange\u001b[39m(n_more_estimators)\n\u001b[0;32m    479\u001b[0m ]\n\u001b[0;32m    481\u001b[0m \u001b[38;5;66;03m# Parallel loop: we prefer the threading backend as the Cython code\u001b[39;00m\n\u001b[0;32m    482\u001b[0m \u001b[38;5;66;03m# for fitting the trees is internally releasing the Python GIL\u001b[39;00m\n\u001b[0;32m    483\u001b[0m \u001b[38;5;66;03m# making threading more efficient than multiprocessing in\u001b[39;00m\n\u001b[0;32m    484\u001b[0m \u001b[38;5;66;03m# that case. However, for joblib 0.12+ we respect any\u001b[39;00m\n\u001b[0;32m    485\u001b[0m \u001b[38;5;66;03m# parallel_backend contexts set at a higher level,\u001b[39;00m\n\u001b[0;32m    486\u001b[0m \u001b[38;5;66;03m# since correctness does not rely on using threads.\u001b[39;00m\n\u001b[1;32m--> 487\u001b[0m trees \u001b[38;5;241m=\u001b[39m \u001b[43mParallel\u001b[49m\u001b[43m(\u001b[49m\n\u001b[0;32m    488\u001b[0m \u001b[43m    \u001b[49m\u001b[43mn_jobs\u001b[49m\u001b[38;5;241;43m=\u001b[39;49m\u001b[38;5;28;43mself\u001b[39;49m\u001b[38;5;241;43m.\u001b[39;49m\u001b[43mn_jobs\u001b[49m\u001b[43m,\u001b[49m\n\u001b[0;32m    489\u001b[0m \u001b[43m    \u001b[49m\u001b[43mverbose\u001b[49m\u001b[38;5;241;43m=\u001b[39;49m\u001b[38;5;28;43mself\u001b[39;49m\u001b[38;5;241;43m.\u001b[39;49m\u001b[43mverbose\u001b[49m\u001b[43m,\u001b[49m\n\u001b[0;32m    490\u001b[0m \u001b[43m    \u001b[49m\u001b[43mprefer\u001b[49m\u001b[38;5;241;43m=\u001b[39;49m\u001b[38;5;124;43m\"\u001b[39;49m\u001b[38;5;124;43mthreads\u001b[39;49m\u001b[38;5;124;43m\"\u001b[39;49m\u001b[43m,\u001b[49m\n\u001b[0;32m    491\u001b[0m \u001b[43m\u001b[49m\u001b[43m)\u001b[49m\u001b[43m(\u001b[49m\n\u001b[0;32m    492\u001b[0m \u001b[43m    \u001b[49m\u001b[43mdelayed\u001b[49m\u001b[43m(\u001b[49m\u001b[43m_parallel_build_trees\u001b[49m\u001b[43m)\u001b[49m\u001b[43m(\u001b[49m\n\u001b[0;32m    493\u001b[0m \u001b[43m        \u001b[49m\u001b[43mt\u001b[49m\u001b[43m,\u001b[49m\n\u001b[0;32m    494\u001b[0m \u001b[43m        \u001b[49m\u001b[38;5;28;43mself\u001b[39;49m\u001b[38;5;241;43m.\u001b[39;49m\u001b[43mbootstrap\u001b[49m\u001b[43m,\u001b[49m\n\u001b[0;32m    495\u001b[0m \u001b[43m        \u001b[49m\u001b[43mX\u001b[49m\u001b[43m,\u001b[49m\n\u001b[0;32m    496\u001b[0m \u001b[43m        \u001b[49m\u001b[43my\u001b[49m\u001b[43m,\u001b[49m\n\u001b[0;32m    497\u001b[0m \u001b[43m        \u001b[49m\u001b[43msample_weight\u001b[49m\u001b[43m,\u001b[49m\n\u001b[0;32m    498\u001b[0m \u001b[43m        \u001b[49m\u001b[43mi\u001b[49m\u001b[43m,\u001b[49m\n\u001b[0;32m    499\u001b[0m \u001b[43m        \u001b[49m\u001b[38;5;28;43mlen\u001b[39;49m\u001b[43m(\u001b[49m\u001b[43mtrees\u001b[49m\u001b[43m)\u001b[49m\u001b[43m,\u001b[49m\n\u001b[0;32m    500\u001b[0m \u001b[43m        \u001b[49m\u001b[43mverbose\u001b[49m\u001b[38;5;241;43m=\u001b[39;49m\u001b[38;5;28;43mself\u001b[39;49m\u001b[38;5;241;43m.\u001b[39;49m\u001b[43mverbose\u001b[49m\u001b[43m,\u001b[49m\n\u001b[0;32m    501\u001b[0m \u001b[43m        \u001b[49m\u001b[43mclass_weight\u001b[49m\u001b[38;5;241;43m=\u001b[39;49m\u001b[38;5;28;43mself\u001b[39;49m\u001b[38;5;241;43m.\u001b[39;49m\u001b[43mclass_weight\u001b[49m\u001b[43m,\u001b[49m\n\u001b[0;32m    502\u001b[0m \u001b[43m        \u001b[49m\u001b[43mn_samples_bootstrap\u001b[49m\u001b[38;5;241;43m=\u001b[39;49m\u001b[43mn_samples_bootstrap\u001b[49m\u001b[43m,\u001b[49m\n\u001b[0;32m    503\u001b[0m \u001b[43m        \u001b[49m\u001b[43mmissing_values_in_feature_mask\u001b[49m\u001b[38;5;241;43m=\u001b[39;49m\u001b[43mmissing_values_in_feature_mask\u001b[49m\u001b[43m,\u001b[49m\n\u001b[0;32m    504\u001b[0m \u001b[43m    \u001b[49m\u001b[43m)\u001b[49m\n\u001b[0;32m    505\u001b[0m \u001b[43m    \u001b[49m\u001b[38;5;28;43;01mfor\u001b[39;49;00m\u001b[43m \u001b[49m\u001b[43mi\u001b[49m\u001b[43m,\u001b[49m\u001b[43m \u001b[49m\u001b[43mt\u001b[49m\u001b[43m \u001b[49m\u001b[38;5;129;43;01min\u001b[39;49;00m\u001b[43m \u001b[49m\u001b[38;5;28;43menumerate\u001b[39;49m\u001b[43m(\u001b[49m\u001b[43mtrees\u001b[49m\u001b[43m)\u001b[49m\n\u001b[0;32m    506\u001b[0m \u001b[43m\u001b[49m\u001b[43m)\u001b[49m\n\u001b[0;32m    508\u001b[0m \u001b[38;5;66;03m# Collect newly grown trees\u001b[39;00m\n\u001b[0;32m    509\u001b[0m \u001b[38;5;28mself\u001b[39m\u001b[38;5;241m.\u001b[39mestimators_\u001b[38;5;241m.\u001b[39mextend(trees)\n",
      "File \u001b[1;32mc:\\Python\\Python311\\Lib\\site-packages\\sklearn\\utils\\parallel.py:77\u001b[0m, in \u001b[0;36mParallel.__call__\u001b[1;34m(self, iterable)\u001b[0m\n\u001b[0;32m     72\u001b[0m config \u001b[38;5;241m=\u001b[39m get_config()\n\u001b[0;32m     73\u001b[0m iterable_with_config \u001b[38;5;241m=\u001b[39m (\n\u001b[0;32m     74\u001b[0m     (_with_config(delayed_func, config), args, kwargs)\n\u001b[0;32m     75\u001b[0m     \u001b[38;5;28;01mfor\u001b[39;00m delayed_func, args, kwargs \u001b[38;5;129;01min\u001b[39;00m iterable\n\u001b[0;32m     76\u001b[0m )\n\u001b[1;32m---> 77\u001b[0m \u001b[38;5;28;01mreturn\u001b[39;00m \u001b[38;5;28;43msuper\u001b[39;49m\u001b[43m(\u001b[49m\u001b[43m)\u001b[49m\u001b[38;5;241;43m.\u001b[39;49m\u001b[38;5;21;43m__call__\u001b[39;49m\u001b[43m(\u001b[49m\u001b[43miterable_with_config\u001b[49m\u001b[43m)\u001b[49m\n",
      "File \u001b[1;32mc:\\Python\\Python311\\Lib\\site-packages\\joblib\\parallel.py:1952\u001b[0m, in \u001b[0;36mParallel.__call__\u001b[1;34m(self, iterable)\u001b[0m\n\u001b[0;32m   1946\u001b[0m \u001b[38;5;66;03m# The first item from the output is blank, but it makes the interpreter\u001b[39;00m\n\u001b[0;32m   1947\u001b[0m \u001b[38;5;66;03m# progress until it enters the Try/Except block of the generator and\u001b[39;00m\n\u001b[0;32m   1948\u001b[0m \u001b[38;5;66;03m# reach the first `yield` statement. This starts the aynchronous\u001b[39;00m\n\u001b[0;32m   1949\u001b[0m \u001b[38;5;66;03m# dispatch of the tasks to the workers.\u001b[39;00m\n\u001b[0;32m   1950\u001b[0m \u001b[38;5;28mnext\u001b[39m(output)\n\u001b[1;32m-> 1952\u001b[0m \u001b[38;5;28;01mreturn\u001b[39;00m output \u001b[38;5;28;01mif\u001b[39;00m \u001b[38;5;28mself\u001b[39m\u001b[38;5;241m.\u001b[39mreturn_generator \u001b[38;5;28;01melse\u001b[39;00m \u001b[38;5;28;43mlist\u001b[39;49m\u001b[43m(\u001b[49m\u001b[43moutput\u001b[49m\u001b[43m)\u001b[49m\n",
      "File \u001b[1;32mc:\\Python\\Python311\\Lib\\site-packages\\joblib\\parallel.py:1595\u001b[0m, in \u001b[0;36mParallel._get_outputs\u001b[1;34m(self, iterator, pre_dispatch)\u001b[0m\n\u001b[0;32m   1592\u001b[0m     \u001b[38;5;28;01myield\u001b[39;00m\n\u001b[0;32m   1594\u001b[0m     \u001b[38;5;28;01mwith\u001b[39;00m \u001b[38;5;28mself\u001b[39m\u001b[38;5;241m.\u001b[39m_backend\u001b[38;5;241m.\u001b[39mretrieval_context():\n\u001b[1;32m-> 1595\u001b[0m         \u001b[38;5;28;01myield from\u001b[39;00m \u001b[38;5;28mself\u001b[39m\u001b[38;5;241m.\u001b[39m_retrieve()\n\u001b[0;32m   1597\u001b[0m \u001b[38;5;28;01mexcept\u001b[39;00m \u001b[38;5;167;01mGeneratorExit\u001b[39;00m:\n\u001b[0;32m   1598\u001b[0m     \u001b[38;5;66;03m# The generator has been garbage collected before being fully\u001b[39;00m\n\u001b[0;32m   1599\u001b[0m     \u001b[38;5;66;03m# consumed. This aborts the remaining tasks if possible and warn\u001b[39;00m\n\u001b[0;32m   1600\u001b[0m     \u001b[38;5;66;03m# the user if necessary.\u001b[39;00m\n\u001b[0;32m   1601\u001b[0m     \u001b[38;5;28mself\u001b[39m\u001b[38;5;241m.\u001b[39m_exception \u001b[38;5;241m=\u001b[39m \u001b[38;5;28;01mTrue\u001b[39;00m\n",
      "File \u001b[1;32mc:\\Python\\Python311\\Lib\\site-packages\\joblib\\parallel.py:1707\u001b[0m, in \u001b[0;36mParallel._retrieve\u001b[1;34m(self)\u001b[0m\n\u001b[0;32m   1702\u001b[0m \u001b[38;5;66;03m# If the next job is not ready for retrieval yet, we just wait for\u001b[39;00m\n\u001b[0;32m   1703\u001b[0m \u001b[38;5;66;03m# async callbacks to progress.\u001b[39;00m\n\u001b[0;32m   1704\u001b[0m \u001b[38;5;28;01mif\u001b[39;00m ((\u001b[38;5;28mlen\u001b[39m(\u001b[38;5;28mself\u001b[39m\u001b[38;5;241m.\u001b[39m_jobs) \u001b[38;5;241m==\u001b[39m \u001b[38;5;241m0\u001b[39m) \u001b[38;5;129;01mor\u001b[39;00m\n\u001b[0;32m   1705\u001b[0m     (\u001b[38;5;28mself\u001b[39m\u001b[38;5;241m.\u001b[39m_jobs[\u001b[38;5;241m0\u001b[39m]\u001b[38;5;241m.\u001b[39mget_status(\n\u001b[0;32m   1706\u001b[0m         timeout\u001b[38;5;241m=\u001b[39m\u001b[38;5;28mself\u001b[39m\u001b[38;5;241m.\u001b[39mtimeout) \u001b[38;5;241m==\u001b[39m TASK_PENDING)):\n\u001b[1;32m-> 1707\u001b[0m     time\u001b[38;5;241m.\u001b[39msleep(\u001b[38;5;241m0.01\u001b[39m)\n\u001b[0;32m   1708\u001b[0m     \u001b[38;5;28;01mcontinue\u001b[39;00m\n\u001b[0;32m   1710\u001b[0m \u001b[38;5;66;03m# We need to be careful: the job list can be filling up as\u001b[39;00m\n\u001b[0;32m   1711\u001b[0m \u001b[38;5;66;03m# we empty it and Python list are not thread-safe by\u001b[39;00m\n\u001b[0;32m   1712\u001b[0m \u001b[38;5;66;03m# default hence the use of the lock\u001b[39;00m\n",
      "\u001b[1;31mKeyboardInterrupt\u001b[0m: "
     ]
    }
   ],
   "source": [
    "# Train attack detection model\n",
    "rf_model_attack = RandomForestClassifier(n_estimators=100, random_state=42, n_jobs=-1, class_weight='balanced')\n",
    "rf_model_attack.fit(X_train_attack, y_train_attack)\n",
    "\n",
    "# Train device identification model\n",
    "rf_model_device = RandomForestClassifier(n_estimators=100, random_state=42, n_jobs=-1, class_weight='balanced')\n",
    "rf_model_device.fit(X_train_device, y_train_device)"
   ]
  },
  {
   "cell_type": "code",
   "execution_count": null,
   "id": "01e3f2e3",
   "metadata": {},
   "outputs": [],
   "source": [
    "# Train attack detection model\n",
    "xgb_model_attack = XGBClassifier(random_state=42, use_label_encoder=False, eval_metric='mlogloss')\n",
    "xgb_model_attack.fit(X_train_attack, y_train_attack)\n",
    "\n",
    "# Train device identification model\n",
    "xgb_model_device = XGBClassifier(random_state=42, use_label_encoder=False, eval_metric='mlogloss')\n",
    "xgb_model_device.fit(X_train_device, y_train_device)"
   ]
  },
  {
   "cell_type": "code",
   "execution_count": null,
   "id": "0046b360",
   "metadata": {},
   "outputs": [],
   "source": [
    "# Evaluate Random Forest for attack detection\n",
    "rf_y_pred_attack = rf_model_attack.predict(X_test_attack)\n",
    "print(\"Random Forest - Attack Detection Performance:\")\n",
    "print(f\"Accuracy: {accuracy_score(y_test_attack, rf_y_pred_attack):.2f}\")\n",
    "print(classification_report(y_test_attack, rf_y_pred_attack))\n",
    "\n",
    "# Evaluate XGBoost for attack detection\n",
    "xgb_y_pred_attack = xgb_model_attack.predict(X_test_attack)\n",
    "print(\"\\nXGBoost - Attack Detection Performance:\")\n",
    "print(f\"Accuracy: {accuracy_score(y_test_attack, xgb_y_pred_attack):.2f}\")\n",
    "print(classification_report(y_test_attack, xgb_y_pred_attack))\n",
    "\n",
    "# Evaluate Random Forest for device identification\n",
    "rf_y_pred_device = rf_model_device.predict(X_test_device)\n",
    "print(\"\\nRandom Forest - Device Identification Performance:\")\n",
    "print(f\"Accuracy: {accuracy_score(y_test_device, rf_y_pred_device):.2f}\")\n",
    "print(classification_report(y_test_device, rf_y_pred_device, target_names=le_device.classes_))\n",
    "\n",
    "# Evaluate XGBoost for device identification\n",
    "xgb_y_pred_device = xgb_model_device.predict(X_test_device)\n",
    "print(\"\\nXGBoost - Device Identification Performance:\")\n",
    "print(f\"Accuracy: {accuracy_score(y_test_device, xgb_y_pred_device):.2f}\")\n",
    "print(classification_report(y_test_device, xgb_y_pred_device, target_names=le_device.classes_))"
   ]
  },
  {
   "cell_type": "code",
   "execution_count": null,
   "id": "234b7c66",
   "metadata": {},
   "outputs": [],
   "source": []
  }
 ],
 "metadata": {
  "kernelspec": {
   "display_name": "Python 3",
   "language": "python",
   "name": "python3"
  },
  "language_info": {
   "codemirror_mode": {
    "name": "ipython",
    "version": 3
   },
   "file_extension": ".py",
   "mimetype": "text/x-python",
   "name": "python",
   "nbconvert_exporter": "python",
   "pygments_lexer": "ipython3",
   "version": "3.11.4"
  }
 },
 "nbformat": 4,
 "nbformat_minor": 5
}
